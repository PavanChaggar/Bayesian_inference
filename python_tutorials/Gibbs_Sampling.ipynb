{
 "cells": [
  {
   "cell_type": "markdown",
   "metadata": {},
   "source": [
    "# Gibbs sampling\n",
    "\n",
    "This practical demonstration is based on the material covered by Prof. Saad Jbabdi [here](https://users.fmrib.ox.ac.uk/~saad/ONBI/bayes_practical.html#sampling)\n",
    "\n",
    "## Problam Statement\n",
    "\n",
    "Consider a model with parameter set: \n",
    "\n",
    "$$ \\mathbf{\\theta} = \\{\\theta_{1},...,\\theta_{n}\\} $$\n",
    "\n",
    "that generate some data $\\mathbf{y}$.\n",
    "\n",
    "Gibbs sampling is method of approximating the posterior for each $\\theta$ by sampling from their respective conditional probabilities. For example: \n",
    "\n",
    "$$ p(\\theta_{j} \\mid \\theta_{-j}^{t-1}, \\mathbf{y}) $$\n",
    "\n",
    "Where $\\theta_{-j}^{t-1}$ is an enumeration of all parameters $\\theta$ except $\\theta_{j}$. \n",
    "\n",
    "As a first example, we will investigate a Gibbs sampler from a bivariate normal distribition: \n",
    "\n",
    "$$\\binom{\\theta_{1}}{\\theta_{2}} \\mid \\mathbf{y} \\sim \\mathcal{N}(\\binom{y_{1}}{y_{2}}, \\left(\\begin{array}{cc} 1 & \\rho\\\\\\rho & 1\\end{array}\\right)) $$\n",
    "\n",
    "This can done analytically, however, this is of little interest right now. \n",
    "\n",
    "The conditional posteriors for each parameter can be given by: \n",
    "\n",
    "$$ \\theta_{1} \\mid \\theta{2}, \\mathbf{y} \\sim \\mathcal{N}(y_{1} + \\rho(\\theta_{2} - y_{2}), 1 - \\rho^{2}) $$\n",
    "$$ \\theta_{2} \\mid \\theta{1}, \\mathbf{y} \\sim \\mathcal{N}(y_{2} + \\rho(\\theta_{1} - y_{1}), 1 - \\rho^{2}) $$\n",
    "\n",
    "Note that the conditional posteriors of the multivariate distributions can be approximated by a normal distribution.\n",
    "\n",
    "For the derivation of these conditional posteriors, see here. (link to be added later). \n"
   ]
  },
  {
   "cell_type": "code",
   "execution_count": null,
   "metadata": {},
   "outputs": [],
   "source": [
    "\n",
    "\n",
    "\n",
    "θ |θ , y~N(y +ρ(θ −y ), 1−ρ2) 2\n",
    "θ1|θ2, y~N(y1+ρ(θ2−y2), 1−ρ )."
   ]
  },
  {
   "cell_type": "markdown",
   "metadata": {},
   "source": [
    "We consider a linear model: \n",
    "\n",
    "$$ y = ax + \\epsilon$$ \n",
    "\n",
    "$$ \\epsilon = \\mathcal{N}(0, \\sigma^{2}) $$ \n",
    "where, y is the data, x is a regressor, a is an unknown parameter and $\\epsilon$ is noise assumed to be $\\mathcal{N}(0, \\sigma^{2})$, where $\\sigma^{2}$ is the unknown variance. \n",
    "\n",
    "We wish to estimate the parameter unknown parameter $a$ that generates the data $y$, accounting for $x$ and $\\epsilon$.\n",
    " \n",
    "Gibbs sampling stautes that we can obtain the posterior for each unkown parameter by sampling from their respective conditional posteriors. \n",
    "We begin by generating some data."
   ]
  },
  {
   "cell_type": "markdown",
   "metadata": {},
   "source": [
    "## Generating Data\n",
    "\n",
    "We generate some datat that obeys the generative model above. "
   ]
  },
  {
   "cell_type": "code",
   "execution_count": 77,
   "metadata": {},
   "outputs": [
    {
     "data": {
      "image/png": "[encoded data removed]",
      "text/plain": [
       "<Figure size 432x288 with 1 Axes>"
      ]
     },
     "metadata": {
      "needs_background": "light"
     },
     "output_type": "display_data"
    }
   ],
   "source": [
    "import numpy as np\n",
    "import matplotlib.pyplot as plt\n",
    "\n",
    "# Specify initial values\n",
    "\n",
    "true_value = 2 # parameter a\n",
    "sigma = 5      # true sigma\n",
    "x = np.linspace(0,10,100) # known regressor\n",
    "n = len(x) \n",
    "\n",
    "\n",
    "# Generate data\n",
    "\n",
    "y = true_value * x + np.random.normal(0,np.power(sigma,2),n)\n",
    "\n",
    "# Plot synthetic data\n",
    "\n",
    "plt.scatter(x,y)\n",
    "plt.show()"
   ]
  },
  {
   "cell_type": "markdown",
   "metadata": {},
   "source": [
    "To complete the generative model, we place the following priors on $a$ and uniform priors on $\\sigma^{2}$:\n",
    "\n",
    "$$P(s^2)=1/s^{2}$$\n",
    "\n",
    "$$P(a)=\\mathcal{N}(0,\\sigma_{0}^{2})$$"
   ]
  },
  {
   "cell_type": "code",
   "execution_count": 104,
   "metadata": {},
   "outputs": [],
   "source": [
    "va = np.linspace(0,5,100)\n",
    "vs = np.linspace(0.01,80,100)\n",
    "\n",
    "posterior = np.zeros((len(vs),len(va)))\n",
    "\n",
    "for i in range(100):\n",
    "    for j in range(100):\n",
    "        sample = va[j]*x\n",
    "        likelihood = np.power(vs[i], -n/2) * np.exp(-1* np.sum(np.power((y - sample),2)) / 2/vs[i])\n"
   ]
  },
  {
   "cell_type": "code",
   "execution_count": null,
   "metadata": {},
   "outputs": [],
   "source": []
  },
  {
   "cell_type": "code",
   "execution_count": null,
   "metadata": {},
   "outputs": [],
   "source": [
    " % grid\n",
    "  va = linspace(0,5,100);     % values of a\n",
    "  vs = linspace(.01,80,100);  % values of s^2\n",
    "\n",
    "  posterior = zeros(length(vs),length(va));\n",
    "\n",
    "  for i=1:length(vs)\n",
    "   for j=1:length(va)\n",
    "    S  = va(j)*t;                                        % prediction\n",
    "    li = vs(i).^(-n/2)*exp(-sum((y-S).^2)/2/vs(i));      % likelihood\n",
    "    pr = 1/vs(i) * normpdf(va(i),0,1000);                % prior\n",
    "    posterior(i,j) = li*pr;                              % posterior\n",
    "   end\n",
    "  end\n",
    "  posterior = posterior / sum(posterior(:));\n",
    "  "
   ]
  }
 ],
 "metadata": {
  "kernelspec": {
   "display_name": "Python 3",
   "language": "python",
   "name": "python3"
  },
  "language_info": {
   "codemirror_mode": {
    "name": "ipython",
    "version": 3
   },
   "file_extension": ".py",
   "mimetype": "text/x-python",
   "name": "python",
   "nbconvert_exporter": "python",
   "pygments_lexer": "ipython3",
   "version": "3.7.3"
  }
 },
 "nbformat": 4,
 "nbformat_minor": 4
}
