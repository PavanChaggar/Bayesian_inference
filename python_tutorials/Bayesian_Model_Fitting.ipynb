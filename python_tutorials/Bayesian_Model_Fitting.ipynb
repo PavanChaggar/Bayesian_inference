{
 "cells": [
  {
   "cell_type": "markdown",
   "metadata": {},
   "source": [
    "# Bayesian Model Fitting"
   ]
  },
  {
   "cell_type": "markdown",
   "metadata": {},
   "source": [
    "This practical tutorial is adapted from Prof. Jbabdi's [MATLAB practical](https://users.fmrib.ox.ac.uk/~saad/ONBI/bayes_practical.html)"
   ]
  },
  {
   "cell_type": "markdown",
   "metadata": {},
   "source": [
    "## Problem statement: \n",
    "\n",
    "We have data from some measurement (e.g. temperature). We assume there is some true unknown value corresponding to this measurement and that our measurement decide is noisy. \n",
    "\n",
    "To approximate the true unknown value, we make several measurements and use Bayesian inference to determinine the most likely value of the true unknown value. \n",
    "\n",
    "We write the problem statement as a linear generative model:\n",
    "\n",
    "$$y = a + \\epsilon$$\n",
    "\n",
    "$$\\epsilon = \\mathcal{N}(0,s^2)$$\n",
    "\n",
    "Where, $y$ is the data, $a$ is a paramter of the model (the true unknown temperature) and $\\epsilon$ is additive noise assumed to be given by Gaussian distribution with mean $0$ and standard deviation $s$. \n",
    "\n",
    "The likelihood function of the generative model is given by: \n",
    "\n",
    "$$\\mathcal{L}(y \\mid a)= \\mathcal{N}(a,s^2) $$\n",
    " "
   ]
  },
  {
   "cell_type": "markdown",
   "metadata": {},
   "source": [
    "## Plot example Data and Likelihood"
   ]
  },
  {
   "cell_type": "code",
   "execution_count": 35,
   "metadata": {},
   "outputs": [
    {
     "data": {
      "text/plain": [
       "<matplotlib.collections.PathCollection at 0x118ed6400>"
      ]
     },
     "execution_count": 35,
     "metadata": {},
     "output_type": "execute_result"
    },
    {
     "data": {
      "image/png": "[encoded data removed]",
      "text/plain": [
       "<Figure size 432x288 with 1 Axes>"
      ]
     },
     "metadata": {
      "needs_background": "light"
     },
     "output_type": "display_data"
    }
   ],
   "source": [
    "import numpy as np \n",
    "import matplotlib.pyplot as plt\n",
    "\n",
    "true_mean = 5\n",
    "true_noise = 4\n",
    "n = 4\n",
    "\n",
    "y = true_mean + true_noise * np.random.normal(0,1, n)\n",
    "\n",
    "ran = np.linspace(-15, 15, 1000)\n",
    "N = len(ran)\n",
    "\n",
    "#define function to calculate gaussian likelihood\n",
    "def calc_likelihood(y, ran, n, sd):\n",
    "    N = len(ran)\n",
    "    x = np.transpose(np.tile(y,(N,1)))\n",
    "    mu = np.tile(ran,(n,1))\n",
    "    numerator = np.sum(np.power(x - mu,2),0)\n",
    "    denominator = np.power(sd,2)\n",
    "    likelihood = np.exp(-0.5 * numerator / denominator)\n",
    "    return likelihood\n",
    "\n",
    "\n",
    "likelihood = calc_likelihood(y=y, ran=ran, n=n, sd=true_noise)\n",
    "\n",
    "normalised_likelihood = likelihood / np.sum(likelihood)\n",
    "\n",
    "\n",
    "plt.plot(ran,normalised_likelihood)\n",
    "plt.scatter(y,[0,0,0,0], color='r')"
   ]
  },
  {
   "cell_type": "code",
   "execution_count": null,
   "metadata": {},
   "outputs": [],
   "source": []
  },
  {
   "cell_type": "code",
   "execution_count": null,
   "metadata": {},
   "outputs": [],
   "source": []
  }
 ],
 "metadata": {
  "kernelspec": {
   "display_name": "Python 3",
   "language": "python",
   "name": "python3"
  },
  "language_info": {
   "codemirror_mode": {
    "name": "ipython",
    "version": 3
   },
   "file_extension": ".py",
   "mimetype": "text/x-python",
   "name": "python",
   "nbconvert_exporter": "python",
   "pygments_lexer": "ipython3",
   "version": "3.7.3"
  }
 },
 "nbformat": 4,
 "nbformat_minor": 4
}
