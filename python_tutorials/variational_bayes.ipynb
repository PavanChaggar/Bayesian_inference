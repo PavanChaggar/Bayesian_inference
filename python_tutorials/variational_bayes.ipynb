{
 "metadata": {
  "language_info": {
   "codemirror_mode": {
    "name": "ipython",
    "version": 3
   },
   "file_extension": ".py",
   "mimetype": "text/x-python",
   "name": "python",
   "nbconvert_exporter": "python",
   "pygments_lexer": "ipython3",
   "version": "3.7.3-final"
  },
  "orig_nbformat": 2,
  "kernelspec": {
   "name": "python_defaultSpec_1596812773603",
   "display_name": "Python 3.7.3 64-bit ('env': venv)"
  }
 },
 "nbformat": 4,
 "nbformat_minor": 2,
 "cells": [
  {
   "cell_type": "markdown",
   "metadata": {},
   "source": [
    "# Variational Bayesian Inference\n",
    "\n",
    "In this notebook, we will review the variational Bayes process, beginning with a technical introduction to the formalism and derivation, followed by a python implementation. \n",
    "The material covered here references Blei et al., 2018, Varitional Inference: A Review for Statisticians and Chappel et al., 2016. The FMRIB Variational Bayes Tutorial. \n"
   ]
  },
  {
   "cell_type": "markdown",
   "metadata": {},
   "source": [
    "## Technical Overview\n",
    "\n",
    "### Problem Statement \n",
    "\n",
    "Similarly to problems addressed by sampling methods, the goal of variational inference (VI) is to approximate parameter distributions from data, specifically in cases where an analytical treatment is intractable. \n",
    "\n",
    "Consider the following example (from Blei et al., 2018): \n",
    "\n",
    "For latent variabels $\\mathbf{z} = z_{1:m}$ and observations $\\mathbf{x} = x_{1:n}$, the posterior conditional density is given by : \n",
    "\n",
    "$$ p(\\mathbf{z} \\mid \\mathbf{x}) = \\frac{p(\\mathbf{x} \\mid \\mathbf{z}) * p(\\mathbf{z})}{p(\\mathbf{x})} $$\n",
    "\n",
    "The denominator, ${p(\\mathbf{x})}$, whose value is needed to compute the posterior, is calculated by: \n",
    "\n",
    "$$ {p(\\mathbf{x})} = \\int p(\\mathbf{z} , \\mathbf{x}) dz $$\n",
    "\n",
    "\n",
    "This integral is often intractable or too computationally expensive to be feasible. For similar reasons (notably the number of latent variables)sampling methods are slow to converge.\n",
    "\n",
    "VI aims to circumvent the large time complexity by approaching the problem through optimisation. \n",
    "\n",
    "The process begins by positing a contrived _approximate_ density, $\\mathfrak{D}$ of latent variables $\\mathbf{z}$. Then, using this density can find a set of valuers for $q(\\mathbf{z}) \\in \\mathfrak{D}$ whose values maximise the Kullback-Liebler divergence between the approximate density and the true posterior. \n",
    "\n",
    "$$ q^{*}(\\mathbf{z}) = \\underset{q(\\mathbf{z}) \\in \\mathfrak{D}}{argmin} \\mathrm{KL}(q(\\mathbf{z}) \\mid \\mid p(\\mathbf{z} \\mid \\mathbf{x})) $$\n"
   ]
  },
  {
   "cell_type": "markdown",
   "metadata": {},
   "source": [
    "### VI Computation \n",
    "\n",
    "To compute the optimsation problem stated above requires we do manipulation of the terms. This is because the problem is still dependent on the _evidence_ term ($p(\\mathbf{x})$; recall, the intragral of this is often difficult/intractable). To see this clearly, we can rewrite out expression using Bayes rule: \n",
    "\n",
    "$$ q^{*}(\\mathbf{z}) = \\underset{q(\\mathbf{z}) \\in \\mathfrak{D}}{argmin} \\mathrm{KL}\\bigg(q(\\mathbf{z}) \\mid \\mid \\frac{p(\\mathbf{z}, \\mathbf{x})}{p(\\mathbf{x})}\\bigg) $$\n",
    "\n",
    "We can avoid evidence term using the following manipulations. First, let's break down the KL divergence, recalling that the KL divergence can otherwise be expressed as the expectated value of the first argument minus the expected value of the second argument: \n",
    "\n",
    "$$ KL(q(\\mathbf{z}) \\mid \\mid p(\\mathbf{z} \\mid \\mathbf{x})) = \\mathbb{E}[\\log q(\\mathbf{z})] - \\mathbb{E}[\\log p(\\mathbf{z} , \\mathbf{x})] + \\log p(\\mathbf{x}) $$\n",
    "\n",
    "We formulate the Evidence Lower Bound (ELBO) by multiplying both sides by -1: \n",
    "\n",
    "\n",
    "\\begin{align}\n",
    " ELBO(q) &= - KL(q(\\mathbf{z}) \\mid \\mid p(\\mathbf{z} \\mid \\mathbf{x})) + \\log p(\\mathbf{x}) \\\\\n",
    " \n",
    "         &= \\mathbb{E}[\\log p(\\mathbf{z}, \\mathbf{x})] - \\mathbb{E}[\\log q(\\mathbf{z})]\n",
    "\\end{align}\n",
    "\n",
    "Note that, maximsing the ELBO is the same as minimising the KL divergence, since the evidence is constant and additive. \n",
    "\n",
    "By exanding the joint probaibility, we can rewrite the ELBO in terms of the log likelihood and KL divergence between our prior $p(\\mathbf{z})$ and our variational density $q(\\mathbf{z})$: \n",
    "\n",
    "\\begin{align}\n",
    "ELBO(q) &= \\mathbb{E}[\\log p(\\mathbf{x} \\mid \\mathbf{z})] + \\mathbb{E}[\\log p(\\mathbf{z})] - \\mathbb{E}[\\log q(\\mathbf{z})] \\\\\n",
    "\n",
    "&= \\mathbb{E}[\\log p(\\mathbf{x} \\mid \\mathbf{z})] - KL(q(\\mathbf{z}) \\mid \\mid p(\\mathbf{z}))\n",
    "\\end{align}\n",
    "\n",
    "By maximising the ELBO or minimising the KL divergence, we can solve the optimisation problem. Now, we need a method to do this."
   ]
  },
  {
   "cell_type": "markdown",
   "metadata": {},
   "source": [
    "### Optimisation \n",
    "\n",
    "There are many method available for solving the optimsation problem. Here we appeal to variational calculus (hence, variational inference). \n",
    "\n",
    "Full derivation to follow... \n",
    "\n",
    "Optimisation equates to updating parameters w.r.t the expectation of all other parameters given the current posterior:\n",
    "\n",
    "$$ \\log q(z_i) \\approx \\int q(z_{-i}) \\log p(x \\mid z) p(w) dw_{-i}$$ \n"
   ]
  },
  {
   "cell_type": "markdown",
   "metadata": {},
   "source": [
    "## Example \n",
    "\n",
    "We will work with an exponential decay model to explore the variational Bayes framework and derive further equations needed. \n",
    "\n",
    "### Model Definition \n",
    "\n",
    "$$ y = ae^{-\\lambda t} + \\epsilon $$\n",
    "$$ \\epsilon = \\mathcal{N}(0,\\phi^{1}) $$\n",
    "\n",
    "We can define this using a simple lambda function and some parameter values. "
   ]
  },
  {
   "cell_type": "code",
   "execution_count": 3,
   "metadata": {},
   "outputs": [],
   "source": [
    "import numpy as np\n",
    "import matplotlib.pyplot as plt "
   ]
  },
  {
   "cell_type": "code",
   "execution_count": 4,
   "metadata": {},
   "outputs": [],
   "source": [
    "def f(theta, t): \n",
    "    \"\"\" Sipmle exponential decay model\n",
    "\n",
    "    args: \n",
    "    theta : array, float\n",
    "            parameters for function\n",
    "        t : array, float \n",
    "            timesteps to evaluate at\n",
    "    \"\"\"\n",
    "    a, l = theta\n",
    "    f1 = a * np.exp(-l * t)\n",
    "\n",
    "    return f1"
   ]
  },
  {
   "cell_type": "code",
   "execution_count": 5,
   "metadata": {},
   "outputs": [],
   "source": [
    "a = 42\n",
    "l = 1.5\n",
    "theta = [a, l]\n",
    "t = np.linspace(0,20,100)\n",
    "\n",
    "phi = 100 "
   ]
  },
  {
   "cell_type": "code",
   "execution_count": 6,
   "metadata": {},
   "outputs": [],
   "source": [
    "model = f(theta, t)\n",
    "data = f(theta, t) + np.random.normal(0, np.sqrt(1/10), t.shape[0])"
   ]
  },
  {
   "cell_type": "code",
   "execution_count": 34,
   "metadata": {},
   "outputs": [
    {
     "output_type": "display_data",
     "data": {
      "text/plain": "<Figure size 432x288 with 1 Axes>",
      "image/svg+xml": "<?xml version=\"1.0\" encoding=\"utf-8\" standalone=\"no\"?>\n<!DOCTYPE svg PUBLIC \"-//W3C//DTD SVG 1.1//EN\"\n  \"http://www.w3.org/Graphics/SVG/1.1/DTD/svg11.dtd\">\n<!-- Created with matplotlib (https://matplotlib.org/) -->\n<svg height=\"248.518125pt\" version=\"1.1\" viewBox=\"0 0 368.925 248.518125\" width=\"368.925pt\" xmlns=\"http://www.w3.org/2000/svg\" xmlns:xlink=\"http://www.w3.org/1999/xlink\">\n <defs>\n  <style type=\"text/css\">\n*{stroke-linecap:butt;stroke-linejoin:round;}\n  </style>\n </defs>\n <g id=\"figure_1\">\n  <g id=\"patch_1\">\n   <path d=\"M -0 248.518125 \nL 368.925 248.518125 \nL 368.925 0 \nL -0 0 \nz\n\" style=\"fill:none;\"/>\n  </g>\n  <g id=\"axes_1\">\n   <g id=\"patch_2\">\n    <path d=\"M 26.925 224.64 \nL 361.725 224.64 \nL 361.725 7.2 \nL 26.925 7.2 \nz\n\" style=\"fill:#ffffff;\"/>\n   </g>\n   <g id=\"PathCollection_1\">\n    <defs>\n     <path d=\"M 0 3 \nC 0.795609 3 1.55874 2.683901 2.12132 2.12132 \nC 2.683901 1.55874 3 0.795609 3 0 \nC 3 -0.795609 2.683901 -1.55874 2.12132 -2.12132 \nC 1.55874 -2.683901 0.795609 -3 0 -3 \nC -0.795609 -3 -1.55874 -2.683901 -2.12132 -2.12132 \nC -2.683901 -1.55874 -3 -0.795609 -3 0 \nC -3 0.795609 -2.683901 1.55874 -2.12132 2.12132 \nC -1.55874 2.683901 -0.795609 3 0 3 \nz\n\" id=\"me2d88f6eb7\" style=\"stroke:#ffa500;\"/>\n    </defs>\n    <g clip-path=\"url(#p6188efb9b2)\">\n     <use style=\"fill:#ffa500;stroke:#ffa500;\" x=\"42.143182\" xlink:href=\"#me2d88f6eb7\" y=\"18.112505\"/>\n     <use style=\"fill:#ffa500;stroke:#ffa500;\" x=\"45.217562\" xlink:href=\"#me2d88f6eb7\" y=\"69.353374\"/>\n     <use style=\"fill:#ffa500;stroke:#ffa500;\" x=\"48.291942\" xlink:href=\"#me2d88f6eb7\" y=\"107.709592\"/>\n     <use style=\"fill:#ffa500;stroke:#ffa500;\" x=\"51.366322\" xlink:href=\"#me2d88f6eb7\" y=\"134.47278\"/>\n     <use style=\"fill:#ffa500;stroke:#ffa500;\" x=\"54.440702\" xlink:href=\"#me2d88f6eb7\" y=\"152.388925\"/>\n     <use style=\"fill:#ffa500;stroke:#ffa500;\" x=\"57.515083\" xlink:href=\"#me2d88f6eb7\" y=\"167.467203\"/>\n     <use style=\"fill:#ffa500;stroke:#ffa500;\" x=\"60.589463\" xlink:href=\"#me2d88f6eb7\" y=\"178.825122\"/>\n     <use style=\"fill:#ffa500;stroke:#ffa500;\" x=\"63.663843\" xlink:href=\"#me2d88f6eb7\" y=\"188.070581\"/>\n     <use style=\"fill:#ffa500;stroke:#ffa500;\" x=\"66.738223\" xlink:href=\"#me2d88f6eb7\" y=\"195.047492\"/>\n     <use style=\"fill:#ffa500;stroke:#ffa500;\" x=\"69.812603\" xlink:href=\"#me2d88f6eb7\" y=\"196.684812\"/>\n     <use style=\"fill:#ffa500;stroke:#ffa500;\" x=\"72.886983\" xlink:href=\"#me2d88f6eb7\" y=\"201.75618\"/>\n     <use style=\"fill:#ffa500;stroke:#ffa500;\" x=\"75.961364\" xlink:href=\"#me2d88f6eb7\" y=\"201.756368\"/>\n     <use style=\"fill:#ffa500;stroke:#ffa500;\" x=\"79.035744\" xlink:href=\"#me2d88f6eb7\" y=\"206.4046\"/>\n     <use style=\"fill:#ffa500;stroke:#ffa500;\" x=\"82.110124\" xlink:href=\"#me2d88f6eb7\" y=\"204.027369\"/>\n     <use style=\"fill:#ffa500;stroke:#ffa500;\" x=\"85.184504\" xlink:href=\"#me2d88f6eb7\" y=\"207.859594\"/>\n     <use style=\"fill:#ffa500;stroke:#ffa500;\" x=\"88.258884\" xlink:href=\"#me2d88f6eb7\" y=\"208.321406\"/>\n     <use style=\"fill:#ffa500;stroke:#ffa500;\" x=\"91.333264\" xlink:href=\"#me2d88f6eb7\" y=\"209.593685\"/>\n     <use style=\"fill:#ffa500;stroke:#ffa500;\" x=\"94.407645\" xlink:href=\"#me2d88f6eb7\" y=\"206.247244\"/>\n     <use style=\"fill:#ffa500;stroke:#ffa500;\" x=\"97.482025\" xlink:href=\"#me2d88f6eb7\" y=\"208.578781\"/>\n     <use style=\"fill:#ffa500;stroke:#ffa500;\" x=\"100.556405\" xlink:href=\"#me2d88f6eb7\" y=\"210.845043\"/>\n     <use style=\"fill:#ffa500;stroke:#ffa500;\" x=\"103.630785\" xlink:href=\"#me2d88f6eb7\" y=\"211.302622\"/>\n     <use style=\"fill:#ffa500;stroke:#ffa500;\" x=\"106.705165\" xlink:href=\"#me2d88f6eb7\" y=\"209.713647\"/>\n     <use style=\"fill:#ffa500;stroke:#ffa500;\" x=\"109.779545\" xlink:href=\"#me2d88f6eb7\" y=\"210.830787\"/>\n     <use style=\"fill:#ffa500;stroke:#ffa500;\" x=\"112.853926\" xlink:href=\"#me2d88f6eb7\" y=\"207.990171\"/>\n     <use style=\"fill:#ffa500;stroke:#ffa500;\" x=\"115.928306\" xlink:href=\"#me2d88f6eb7\" y=\"211.271489\"/>\n     <use style=\"fill:#ffa500;stroke:#ffa500;\" x=\"119.002686\" xlink:href=\"#me2d88f6eb7\" y=\"209.202371\"/>\n     <use style=\"fill:#ffa500;stroke:#ffa500;\" x=\"122.077066\" xlink:href=\"#me2d88f6eb7\" y=\"211.514196\"/>\n     <use style=\"fill:#ffa500;stroke:#ffa500;\" x=\"125.151446\" xlink:href=\"#me2d88f6eb7\" y=\"213.440433\"/>\n     <use style=\"fill:#ffa500;stroke:#ffa500;\" x=\"128.225826\" xlink:href=\"#me2d88f6eb7\" y=\"211.650154\"/>\n     <use style=\"fill:#ffa500;stroke:#ffa500;\" x=\"131.300207\" xlink:href=\"#me2d88f6eb7\" y=\"209.886401\"/>\n     <use style=\"fill:#ffa500;stroke:#ffa500;\" x=\"134.374587\" xlink:href=\"#me2d88f6eb7\" y=\"211.073478\"/>\n     <use style=\"fill:#ffa500;stroke:#ffa500;\" x=\"137.448967\" xlink:href=\"#me2d88f6eb7\" y=\"211.484342\"/>\n     <use style=\"fill:#ffa500;stroke:#ffa500;\" x=\"140.523347\" xlink:href=\"#me2d88f6eb7\" y=\"211.822975\"/>\n     <use style=\"fill:#ffa500;stroke:#ffa500;\" x=\"143.597727\" xlink:href=\"#me2d88f6eb7\" y=\"210.785812\"/>\n     <use style=\"fill:#ffa500;stroke:#ffa500;\" x=\"146.672107\" xlink:href=\"#me2d88f6eb7\" y=\"213.191183\"/>\n     <use style=\"fill:#ffa500;stroke:#ffa500;\" x=\"149.746488\" xlink:href=\"#me2d88f6eb7\" y=\"212.174646\"/>\n     <use style=\"fill:#ffa500;stroke:#ffa500;\" x=\"152.820868\" xlink:href=\"#me2d88f6eb7\" y=\"210.217014\"/>\n     <use style=\"fill:#ffa500;stroke:#ffa500;\" x=\"155.895248\" xlink:href=\"#me2d88f6eb7\" y=\"211.19777\"/>\n     <use style=\"fill:#ffa500;stroke:#ffa500;\" x=\"158.969628\" xlink:href=\"#me2d88f6eb7\" y=\"209.386102\"/>\n     <use style=\"fill:#ffa500;stroke:#ffa500;\" x=\"162.044008\" xlink:href=\"#me2d88f6eb7\" y=\"209.928444\"/>\n     <use style=\"fill:#ffa500;stroke:#ffa500;\" x=\"165.118388\" xlink:href=\"#me2d88f6eb7\" y=\"211.806059\"/>\n     <use style=\"fill:#ffa500;stroke:#ffa500;\" x=\"168.192769\" xlink:href=\"#me2d88f6eb7\" y=\"211.772208\"/>\n     <use style=\"fill:#ffa500;stroke:#ffa500;\" x=\"171.267149\" xlink:href=\"#me2d88f6eb7\" y=\"214.756364\"/>\n     <use style=\"fill:#ffa500;stroke:#ffa500;\" x=\"174.341529\" xlink:href=\"#me2d88f6eb7\" y=\"208.808581\"/>\n     <use style=\"fill:#ffa500;stroke:#ffa500;\" x=\"177.415909\" xlink:href=\"#me2d88f6eb7\" y=\"211.954158\"/>\n     <use style=\"fill:#ffa500;stroke:#ffa500;\" x=\"180.490289\" xlink:href=\"#me2d88f6eb7\" y=\"211.484072\"/>\n     <use style=\"fill:#ffa500;stroke:#ffa500;\" x=\"183.564669\" xlink:href=\"#me2d88f6eb7\" y=\"209.842244\"/>\n     <use style=\"fill:#ffa500;stroke:#ffa500;\" x=\"186.63905\" xlink:href=\"#me2d88f6eb7\" y=\"212.816487\"/>\n     <use style=\"fill:#ffa500;stroke:#ffa500;\" x=\"189.71343\" xlink:href=\"#me2d88f6eb7\" y=\"211.113333\"/>\n     <use style=\"fill:#ffa500;stroke:#ffa500;\" x=\"192.78781\" xlink:href=\"#me2d88f6eb7\" y=\"211.467396\"/>\n     <use style=\"fill:#ffa500;stroke:#ffa500;\" x=\"195.86219\" xlink:href=\"#me2d88f6eb7\" y=\"211.388929\"/>\n     <use style=\"fill:#ffa500;stroke:#ffa500;\" x=\"198.93657\" xlink:href=\"#me2d88f6eb7\" y=\"211.13224\"/>\n     <use style=\"fill:#ffa500;stroke:#ffa500;\" x=\"202.01095\" xlink:href=\"#me2d88f6eb7\" y=\"210.588232\"/>\n     <use style=\"fill:#ffa500;stroke:#ffa500;\" x=\"205.085331\" xlink:href=\"#me2d88f6eb7\" y=\"209.949044\"/>\n     <use style=\"fill:#ffa500;stroke:#ffa500;\" x=\"208.159711\" xlink:href=\"#me2d88f6eb7\" y=\"208.605221\"/>\n     <use style=\"fill:#ffa500;stroke:#ffa500;\" x=\"211.234091\" xlink:href=\"#me2d88f6eb7\" y=\"210.084167\"/>\n     <use style=\"fill:#ffa500;stroke:#ffa500;\" x=\"214.308471\" xlink:href=\"#me2d88f6eb7\" y=\"213.076954\"/>\n     <use style=\"fill:#ffa500;stroke:#ffa500;\" x=\"217.382851\" xlink:href=\"#me2d88f6eb7\" y=\"213.578267\"/>\n     <use style=\"fill:#ffa500;stroke:#ffa500;\" x=\"220.457231\" xlink:href=\"#me2d88f6eb7\" y=\"212.79406\"/>\n     <use style=\"fill:#ffa500;stroke:#ffa500;\" x=\"223.531612\" xlink:href=\"#me2d88f6eb7\" y=\"212.231988\"/>\n     <use style=\"fill:#ffa500;stroke:#ffa500;\" x=\"226.605992\" xlink:href=\"#me2d88f6eb7\" y=\"211.470123\"/>\n     <use style=\"fill:#ffa500;stroke:#ffa500;\" x=\"229.680372\" xlink:href=\"#me2d88f6eb7\" y=\"211.954203\"/>\n     <use style=\"fill:#ffa500;stroke:#ffa500;\" x=\"232.754752\" xlink:href=\"#me2d88f6eb7\" y=\"213.321022\"/>\n     <use style=\"fill:#ffa500;stroke:#ffa500;\" x=\"235.829132\" xlink:href=\"#me2d88f6eb7\" y=\"209.838313\"/>\n     <use style=\"fill:#ffa500;stroke:#ffa500;\" x=\"238.903512\" xlink:href=\"#me2d88f6eb7\" y=\"211.261834\"/>\n     <use style=\"fill:#ffa500;stroke:#ffa500;\" x=\"241.977893\" xlink:href=\"#me2d88f6eb7\" y=\"209.329279\"/>\n     <use style=\"fill:#ffa500;stroke:#ffa500;\" x=\"245.052273\" xlink:href=\"#me2d88f6eb7\" y=\"211.714729\"/>\n     <use style=\"fill:#ffa500;stroke:#ffa500;\" x=\"248.126653\" xlink:href=\"#me2d88f6eb7\" y=\"211.018101\"/>\n     <use style=\"fill:#ffa500;stroke:#ffa500;\" x=\"251.201033\" xlink:href=\"#me2d88f6eb7\" y=\"209.29332\"/>\n     <use style=\"fill:#ffa500;stroke:#ffa500;\" x=\"254.275413\" xlink:href=\"#me2d88f6eb7\" y=\"211.755544\"/>\n     <use style=\"fill:#ffa500;stroke:#ffa500;\" x=\"257.349793\" xlink:href=\"#me2d88f6eb7\" y=\"210.913268\"/>\n     <use style=\"fill:#ffa500;stroke:#ffa500;\" x=\"260.424174\" xlink:href=\"#me2d88f6eb7\" y=\"209.3989\"/>\n     <use style=\"fill:#ffa500;stroke:#ffa500;\" x=\"263.498554\" xlink:href=\"#me2d88f6eb7\" y=\"211.632382\"/>\n     <use style=\"fill:#ffa500;stroke:#ffa500;\" x=\"266.572934\" xlink:href=\"#me2d88f6eb7\" y=\"210.857451\"/>\n     <use style=\"fill:#ffa500;stroke:#ffa500;\" x=\"269.647314\" xlink:href=\"#me2d88f6eb7\" y=\"209.754571\"/>\n     <use style=\"fill:#ffa500;stroke:#ffa500;\" x=\"272.721694\" xlink:href=\"#me2d88f6eb7\" y=\"211.89768\"/>\n     <use style=\"fill:#ffa500;stroke:#ffa500;\" x=\"275.796074\" xlink:href=\"#me2d88f6eb7\" y=\"210.196706\"/>\n     <use style=\"fill:#ffa500;stroke:#ffa500;\" x=\"278.870455\" xlink:href=\"#me2d88f6eb7\" y=\"207.832522\"/>\n     <use style=\"fill:#ffa500;stroke:#ffa500;\" x=\"281.944835\" xlink:href=\"#me2d88f6eb7\" y=\"209.971704\"/>\n     <use style=\"fill:#ffa500;stroke:#ffa500;\" x=\"285.019215\" xlink:href=\"#me2d88f6eb7\" y=\"211.858237\"/>\n     <use style=\"fill:#ffa500;stroke:#ffa500;\" x=\"288.093595\" xlink:href=\"#me2d88f6eb7\" y=\"211.686898\"/>\n     <use style=\"fill:#ffa500;stroke:#ffa500;\" x=\"291.167975\" xlink:href=\"#me2d88f6eb7\" y=\"210.708289\"/>\n     <use style=\"fill:#ffa500;stroke:#ffa500;\" x=\"294.242355\" xlink:href=\"#me2d88f6eb7\" y=\"211.071985\"/>\n     <use style=\"fill:#ffa500;stroke:#ffa500;\" x=\"297.316736\" xlink:href=\"#me2d88f6eb7\" y=\"208.080529\"/>\n     <use style=\"fill:#ffa500;stroke:#ffa500;\" x=\"300.391116\" xlink:href=\"#me2d88f6eb7\" y=\"207.893858\"/>\n     <use style=\"fill:#ffa500;stroke:#ffa500;\" x=\"303.465496\" xlink:href=\"#me2d88f6eb7\" y=\"211.761387\"/>\n     <use style=\"fill:#ffa500;stroke:#ffa500;\" x=\"306.539876\" xlink:href=\"#me2d88f6eb7\" y=\"213.621338\"/>\n     <use style=\"fill:#ffa500;stroke:#ffa500;\" x=\"309.614256\" xlink:href=\"#me2d88f6eb7\" y=\"210.738798\"/>\n     <use style=\"fill:#ffa500;stroke:#ffa500;\" x=\"312.688636\" xlink:href=\"#me2d88f6eb7\" y=\"211.895642\"/>\n     <use style=\"fill:#ffa500;stroke:#ffa500;\" x=\"315.763017\" xlink:href=\"#me2d88f6eb7\" y=\"213.683569\"/>\n     <use style=\"fill:#ffa500;stroke:#ffa500;\" x=\"318.837397\" xlink:href=\"#me2d88f6eb7\" y=\"214.521751\"/>\n     <use style=\"fill:#ffa500;stroke:#ffa500;\" x=\"321.911777\" xlink:href=\"#me2d88f6eb7\" y=\"211.804102\"/>\n     <use style=\"fill:#ffa500;stroke:#ffa500;\" x=\"324.986157\" xlink:href=\"#me2d88f6eb7\" y=\"212.944206\"/>\n     <use style=\"fill:#ffa500;stroke:#ffa500;\" x=\"328.060537\" xlink:href=\"#me2d88f6eb7\" y=\"211.076416\"/>\n     <use style=\"fill:#ffa500;stroke:#ffa500;\" x=\"331.134917\" xlink:href=\"#me2d88f6eb7\" y=\"209.220953\"/>\n     <use style=\"fill:#ffa500;stroke:#ffa500;\" x=\"334.209298\" xlink:href=\"#me2d88f6eb7\" y=\"209.491878\"/>\n     <use style=\"fill:#ffa500;stroke:#ffa500;\" x=\"337.283678\" xlink:href=\"#me2d88f6eb7\" y=\"212.843389\"/>\n     <use style=\"fill:#ffa500;stroke:#ffa500;\" x=\"340.358058\" xlink:href=\"#me2d88f6eb7\" y=\"210.544927\"/>\n     <use style=\"fill:#ffa500;stroke:#ffa500;\" x=\"343.432438\" xlink:href=\"#me2d88f6eb7\" y=\"209.644142\"/>\n     <use style=\"fill:#ffa500;stroke:#ffa500;\" x=\"346.506818\" xlink:href=\"#me2d88f6eb7\" y=\"211.286693\"/>\n    </g>\n   </g>\n   <g id=\"matplotlib.axis_1\">\n    <g id=\"xtick_1\">\n     <g id=\"line2d_1\">\n      <defs>\n       <path d=\"M 0 0 \nL 0 3.5 \n\" id=\"mbbc6bda5c8\" style=\"stroke:#000000;stroke-width:0.8;\"/>\n      </defs>\n      <g>\n       <use style=\"stroke:#000000;stroke-width:0.8;\" x=\"42.143182\" xlink:href=\"#mbbc6bda5c8\" y=\"224.64\"/>\n      </g>\n     </g>\n     <g id=\"text_1\">\n      <!-- 0.0 -->\n      <defs>\n       <path d=\"M 31.78125 66.40625 \nQ 24.171875 66.40625 20.328125 58.90625 \nQ 16.5 51.421875 16.5 36.375 \nQ 16.5 21.390625 20.328125 13.890625 \nQ 24.171875 6.390625 31.78125 6.390625 \nQ 39.453125 6.390625 43.28125 13.890625 \nQ 47.125 21.390625 47.125 36.375 \nQ 47.125 51.421875 43.28125 58.90625 \nQ 39.453125 66.40625 31.78125 66.40625 \nz\nM 31.78125 74.21875 \nQ 44.046875 74.21875 50.515625 64.515625 \nQ 56.984375 54.828125 56.984375 36.375 \nQ 56.984375 17.96875 50.515625 8.265625 \nQ 44.046875 -1.421875 31.78125 -1.421875 \nQ 19.53125 -1.421875 13.0625 8.265625 \nQ 6.59375 17.96875 6.59375 36.375 \nQ 6.59375 54.828125 13.0625 64.515625 \nQ 19.53125 74.21875 31.78125 74.21875 \nz\n\" id=\"DejaVuSans-48\"/>\n       <path d=\"M 10.6875 12.40625 \nL 21 12.40625 \nL 21 0 \nL 10.6875 0 \nz\n\" id=\"DejaVuSans-46\"/>\n      </defs>\n      <g transform=\"translate(34.191619 239.238437)scale(0.1 -0.1)\">\n       <use xlink:href=\"#DejaVuSans-48\"/>\n       <use x=\"63.623047\" xlink:href=\"#DejaVuSans-46\"/>\n       <use x=\"95.410156\" xlink:href=\"#DejaVuSans-48\"/>\n      </g>\n     </g>\n    </g>\n    <g id=\"xtick_2\">\n     <g id=\"line2d_2\">\n      <g>\n       <use style=\"stroke:#000000;stroke-width:0.8;\" x=\"80.188636\" xlink:href=\"#mbbc6bda5c8\" y=\"224.64\"/>\n      </g>\n     </g>\n     <g id=\"text_2\">\n      <!-- 2.5 -->\n      <defs>\n       <path d=\"M 19.1875 8.296875 \nL 53.609375 8.296875 \nL 53.609375 0 \nL 7.328125 0 \nL 7.328125 8.296875 \nQ 12.9375 14.109375 22.625 23.890625 \nQ 32.328125 33.6875 34.8125 36.53125 \nQ 39.546875 41.84375 41.421875 45.53125 \nQ 43.3125 49.21875 43.3125 52.78125 \nQ 43.3125 58.59375 39.234375 62.25 \nQ 35.15625 65.921875 28.609375 65.921875 \nQ 23.96875 65.921875 18.8125 64.3125 \nQ 13.671875 62.703125 7.8125 59.421875 \nL 7.8125 69.390625 \nQ 13.765625 71.78125 18.9375 73 \nQ 24.125 74.21875 28.421875 74.21875 \nQ 39.75 74.21875 46.484375 68.546875 \nQ 53.21875 62.890625 53.21875 53.421875 \nQ 53.21875 48.921875 51.53125 44.890625 \nQ 49.859375 40.875 45.40625 35.40625 \nQ 44.1875 33.984375 37.640625 27.21875 \nQ 31.109375 20.453125 19.1875 8.296875 \nz\n\" id=\"DejaVuSans-50\"/>\n       <path d=\"M 10.796875 72.90625 \nL 49.515625 72.90625 \nL 49.515625 64.59375 \nL 19.828125 64.59375 \nL 19.828125 46.734375 \nQ 21.96875 47.46875 24.109375 47.828125 \nQ 26.265625 48.1875 28.421875 48.1875 \nQ 40.625 48.1875 47.75 41.5 \nQ 54.890625 34.8125 54.890625 23.390625 \nQ 54.890625 11.625 47.5625 5.09375 \nQ 40.234375 -1.421875 26.90625 -1.421875 \nQ 22.3125 -1.421875 17.546875 -0.640625 \nQ 12.796875 0.140625 7.71875 1.703125 \nL 7.71875 11.625 \nQ 12.109375 9.234375 16.796875 8.0625 \nQ 21.484375 6.890625 26.703125 6.890625 \nQ 35.15625 6.890625 40.078125 11.328125 \nQ 45.015625 15.765625 45.015625 23.390625 \nQ 45.015625 31 40.078125 35.4375 \nQ 35.15625 39.890625 26.703125 39.890625 \nQ 22.75 39.890625 18.8125 39.015625 \nQ 14.890625 38.140625 10.796875 36.28125 \nz\n\" id=\"DejaVuSans-53\"/>\n      </defs>\n      <g transform=\"translate(72.237074 239.238437)scale(0.1 -0.1)\">\n       <use xlink:href=\"#DejaVuSans-50\"/>\n       <use x=\"63.623047\" xlink:href=\"#DejaVuSans-46\"/>\n       <use x=\"95.410156\" xlink:href=\"#DejaVuSans-53\"/>\n      </g>\n     </g>\n    </g>\n    <g id=\"xtick_3\">\n     <g id=\"line2d_3\">\n      <g>\n       <use style=\"stroke:#000000;stroke-width:0.8;\" x=\"118.234091\" xlink:href=\"#mbbc6bda5c8\" y=\"224.64\"/>\n      </g>\n     </g>\n     <g id=\"text_3\">\n      <!-- 5.0 -->\n      <g transform=\"translate(110.282528 239.238437)scale(0.1 -0.1)\">\n       <use xlink:href=\"#DejaVuSans-53\"/>\n       <use x=\"63.623047\" xlink:href=\"#DejaVuSans-46\"/>\n       <use x=\"95.410156\" xlink:href=\"#DejaVuSans-48\"/>\n      </g>\n     </g>\n    </g>\n    <g id=\"xtick_4\">\n     <g id=\"line2d_4\">\n      <g>\n       <use style=\"stroke:#000000;stroke-width:0.8;\" x=\"156.279545\" xlink:href=\"#mbbc6bda5c8\" y=\"224.64\"/>\n      </g>\n     </g>\n     <g id=\"text_4\">\n      <!-- 7.5 -->\n      <defs>\n       <path d=\"M 8.203125 72.90625 \nL 55.078125 72.90625 \nL 55.078125 68.703125 \nL 28.609375 0 \nL 18.3125 0 \nL 43.21875 64.59375 \nL 8.203125 64.59375 \nz\n\" id=\"DejaVuSans-55\"/>\n      </defs>\n      <g transform=\"translate(148.327983 239.238437)scale(0.1 -0.1)\">\n       <use xlink:href=\"#DejaVuSans-55\"/>\n       <use x=\"63.623047\" xlink:href=\"#DejaVuSans-46\"/>\n       <use x=\"95.410156\" xlink:href=\"#DejaVuSans-53\"/>\n      </g>\n     </g>\n    </g>\n    <g id=\"xtick_5\">\n     <g id=\"line2d_5\">\n      <g>\n       <use style=\"stroke:#000000;stroke-width:0.8;\" x=\"194.325\" xlink:href=\"#mbbc6bda5c8\" y=\"224.64\"/>\n      </g>\n     </g>\n     <g id=\"text_5\">\n      <!-- 10.0 -->\n      <defs>\n       <path d=\"M 12.40625 8.296875 \nL 28.515625 8.296875 \nL 28.515625 63.921875 \nL 10.984375 60.40625 \nL 10.984375 69.390625 \nL 28.421875 72.90625 \nL 38.28125 72.90625 \nL 38.28125 8.296875 \nL 54.390625 8.296875 \nL 54.390625 0 \nL 12.40625 0 \nz\n\" id=\"DejaVuSans-49\"/>\n      </defs>\n      <g transform=\"translate(183.192188 239.238437)scale(0.1 -0.1)\">\n       <use xlink:href=\"#DejaVuSans-49\"/>\n       <use x=\"63.623047\" xlink:href=\"#DejaVuSans-48\"/>\n       <use x=\"127.246094\" xlink:href=\"#DejaVuSans-46\"/>\n       <use x=\"159.033203\" xlink:href=\"#DejaVuSans-48\"/>\n      </g>\n     </g>\n    </g>\n    <g id=\"xtick_6\">\n     <g id=\"line2d_6\">\n      <g>\n       <use style=\"stroke:#000000;stroke-width:0.8;\" x=\"232.370455\" xlink:href=\"#mbbc6bda5c8\" y=\"224.64\"/>\n      </g>\n     </g>\n     <g id=\"text_6\">\n      <!-- 12.5 -->\n      <g transform=\"translate(221.237642 239.238437)scale(0.1 -0.1)\">\n       <use xlink:href=\"#DejaVuSans-49\"/>\n       <use x=\"63.623047\" xlink:href=\"#DejaVuSans-50\"/>\n       <use x=\"127.246094\" xlink:href=\"#DejaVuSans-46\"/>\n       <use x=\"159.033203\" xlink:href=\"#DejaVuSans-53\"/>\n      </g>\n     </g>\n    </g>\n    <g id=\"xtick_7\">\n     <g id=\"line2d_7\">\n      <g>\n       <use style=\"stroke:#000000;stroke-width:0.8;\" x=\"270.415909\" xlink:href=\"#mbbc6bda5c8\" y=\"224.64\"/>\n      </g>\n     </g>\n     <g id=\"text_7\">\n      <!-- 15.0 -->\n      <g transform=\"translate(259.283097 239.238437)scale(0.1 -0.1)\">\n       <use xlink:href=\"#DejaVuSans-49\"/>\n       <use x=\"63.623047\" xlink:href=\"#DejaVuSans-53\"/>\n       <use x=\"127.246094\" xlink:href=\"#DejaVuSans-46\"/>\n       <use x=\"159.033203\" xlink:href=\"#DejaVuSans-48\"/>\n      </g>\n     </g>\n    </g>\n    <g id=\"xtick_8\">\n     <g id=\"line2d_8\">\n      <g>\n       <use style=\"stroke:#000000;stroke-width:0.8;\" x=\"308.461364\" xlink:href=\"#mbbc6bda5c8\" y=\"224.64\"/>\n      </g>\n     </g>\n     <g id=\"text_8\">\n      <!-- 17.5 -->\n      <g transform=\"translate(297.328551 239.238437)scale(0.1 -0.1)\">\n       <use xlink:href=\"#DejaVuSans-49\"/>\n       <use x=\"63.623047\" xlink:href=\"#DejaVuSans-55\"/>\n       <use x=\"127.246094\" xlink:href=\"#DejaVuSans-46\"/>\n       <use x=\"159.033203\" xlink:href=\"#DejaVuSans-53\"/>\n      </g>\n     </g>\n    </g>\n    <g id=\"xtick_9\">\n     <g id=\"line2d_9\">\n      <g>\n       <use style=\"stroke:#000000;stroke-width:0.8;\" x=\"346.506818\" xlink:href=\"#mbbc6bda5c8\" y=\"224.64\"/>\n      </g>\n     </g>\n     <g id=\"text_9\">\n      <!-- 20.0 -->\n      <g transform=\"translate(335.374006 239.238437)scale(0.1 -0.1)\">\n       <use xlink:href=\"#DejaVuSans-50\"/>\n       <use x=\"63.623047\" xlink:href=\"#DejaVuSans-48\"/>\n       <use x=\"127.246094\" xlink:href=\"#DejaVuSans-46\"/>\n       <use x=\"159.033203\" xlink:href=\"#DejaVuSans-48\"/>\n      </g>\n     </g>\n    </g>\n   </g>\n   <g id=\"matplotlib.axis_2\">\n    <g id=\"ytick_1\">\n     <g id=\"line2d_10\">\n      <defs>\n       <path d=\"M 0 0 \nL -3.5 0 \n\" id=\"mbc456c383f\" style=\"stroke:#000000;stroke-width:0.8;\"/>\n      </defs>\n      <g>\n       <use style=\"stroke:#000000;stroke-width:0.8;\" x=\"26.925\" xlink:href=\"#mbc456c383f\" y=\"210.822811\"/>\n      </g>\n     </g>\n     <g id=\"text_10\">\n      <!-- 0 -->\n      <g transform=\"translate(13.5625 214.622029)scale(0.1 -0.1)\">\n       <use xlink:href=\"#DejaVuSans-48\"/>\n      </g>\n     </g>\n    </g>\n    <g id=\"ytick_2\">\n     <g id=\"line2d_11\">\n      <g>\n       <use style=\"stroke:#000000;stroke-width:0.8;\" x=\"26.925\" xlink:href=\"#mbc456c383f\" y=\"164.694436\"/>\n      </g>\n     </g>\n     <g id=\"text_11\">\n      <!-- 10 -->\n      <g transform=\"translate(7.2 168.493654)scale(0.1 -0.1)\">\n       <use xlink:href=\"#DejaVuSans-49\"/>\n       <use x=\"63.623047\" xlink:href=\"#DejaVuSans-48\"/>\n      </g>\n     </g>\n    </g>\n    <g id=\"ytick_3\">\n     <g id=\"line2d_12\">\n      <g>\n       <use style=\"stroke:#000000;stroke-width:0.8;\" x=\"26.925\" xlink:href=\"#mbc456c383f\" y=\"118.566061\"/>\n      </g>\n     </g>\n     <g id=\"text_12\">\n      <!-- 20 -->\n      <g transform=\"translate(7.2 122.36528)scale(0.1 -0.1)\">\n       <use xlink:href=\"#DejaVuSans-50\"/>\n       <use x=\"63.623047\" xlink:href=\"#DejaVuSans-48\"/>\n      </g>\n     </g>\n    </g>\n    <g id=\"ytick_4\">\n     <g id=\"line2d_13\">\n      <g>\n       <use style=\"stroke:#000000;stroke-width:0.8;\" x=\"26.925\" xlink:href=\"#mbc456c383f\" y=\"72.437686\"/>\n      </g>\n     </g>\n     <g id=\"text_13\">\n      <!-- 30 -->\n      <defs>\n       <path d=\"M 40.578125 39.3125 \nQ 47.65625 37.796875 51.625 33 \nQ 55.609375 28.21875 55.609375 21.1875 \nQ 55.609375 10.40625 48.1875 4.484375 \nQ 40.765625 -1.421875 27.09375 -1.421875 \nQ 22.515625 -1.421875 17.65625 -0.515625 \nQ 12.796875 0.390625 7.625 2.203125 \nL 7.625 11.71875 \nQ 11.71875 9.328125 16.59375 8.109375 \nQ 21.484375 6.890625 26.8125 6.890625 \nQ 36.078125 6.890625 40.9375 10.546875 \nQ 45.796875 14.203125 45.796875 21.1875 \nQ 45.796875 27.640625 41.28125 31.265625 \nQ 36.765625 34.90625 28.71875 34.90625 \nL 20.21875 34.90625 \nL 20.21875 43.015625 \nL 29.109375 43.015625 \nQ 36.375 43.015625 40.234375 45.921875 \nQ 44.09375 48.828125 44.09375 54.296875 \nQ 44.09375 59.90625 40.109375 62.90625 \nQ 36.140625 65.921875 28.71875 65.921875 \nQ 24.65625 65.921875 20.015625 65.03125 \nQ 15.375 64.15625 9.8125 62.3125 \nL 9.8125 71.09375 \nQ 15.4375 72.65625 20.34375 73.4375 \nQ 25.25 74.21875 29.59375 74.21875 \nQ 40.828125 74.21875 47.359375 69.109375 \nQ 53.90625 64.015625 53.90625 55.328125 \nQ 53.90625 49.265625 50.4375 45.09375 \nQ 46.96875 40.921875 40.578125 39.3125 \nz\n\" id=\"DejaVuSans-51\"/>\n      </defs>\n      <g transform=\"translate(7.2 76.236905)scale(0.1 -0.1)\">\n       <use xlink:href=\"#DejaVuSans-51\"/>\n       <use x=\"63.623047\" xlink:href=\"#DejaVuSans-48\"/>\n      </g>\n     </g>\n    </g>\n    <g id=\"ytick_5\">\n     <g id=\"line2d_14\">\n      <g>\n       <use style=\"stroke:#000000;stroke-width:0.8;\" x=\"26.925\" xlink:href=\"#mbc456c383f\" y=\"26.309311\"/>\n      </g>\n     </g>\n     <g id=\"text_14\">\n      <!-- 40 -->\n      <defs>\n       <path d=\"M 37.796875 64.3125 \nL 12.890625 25.390625 \nL 37.796875 25.390625 \nz\nM 35.203125 72.90625 \nL 47.609375 72.90625 \nL 47.609375 25.390625 \nL 58.015625 25.390625 \nL 58.015625 17.1875 \nL 47.609375 17.1875 \nL 47.609375 0 \nL 37.796875 0 \nL 37.796875 17.1875 \nL 4.890625 17.1875 \nL 4.890625 26.703125 \nz\n\" id=\"DejaVuSans-52\"/>\n      </defs>\n      <g transform=\"translate(7.2 30.10853)scale(0.1 -0.1)\">\n       <use xlink:href=\"#DejaVuSans-52\"/>\n       <use x=\"63.623047\" xlink:href=\"#DejaVuSans-48\"/>\n      </g>\n     </g>\n    </g>\n   </g>\n   <g id=\"line2d_15\">\n    <path clip-path=\"url(#p6188efb9b2)\" d=\"M 42.143182 17.083636 \nL 45.217562 67.731568 \nL 48.291942 105.13895 \nL 51.366322 132.767172 \nL 54.440702 153.172734 \nL 57.515083 168.243806 \nL 60.589463 179.374949 \nL 63.663843 187.596153 \nL 66.738223 193.668142 \nL 69.812603 198.152772 \nL 72.886983 201.465015 \nL 75.961364 203.911361 \nL 79.035744 205.718175 \nL 82.110124 207.052645 \nL 85.184504 208.038254 \nL 88.258884 208.766202 \nL 91.333264 209.303847 \nL 94.407645 209.70094 \nL 97.482025 209.994223 \nL 100.556405 210.210835 \nL 103.630785 210.37082 \nL 106.705165 210.488981 \nL 109.779545 210.576252 \nL 112.853926 210.640708 \nL 115.928306 210.688314 \nL 119.002686 210.723474 \nL 122.077066 210.749443 \nL 125.151446 210.768623 \nL 128.225826 210.782789 \nL 131.300207 210.793252 \nL 134.374587 210.800979 \nL 137.448967 210.806686 \nL 140.523347 210.810902 \nL 143.597727 210.814015 \nL 146.672107 210.816314 \nL 149.746488 210.818013 \nL 152.820868 210.819267 \nL 155.895248 210.820193 \nL 158.969628 210.820877 \nL 162.044008 210.821383 \nL 165.118388 210.821756 \nL 168.192769 210.822032 \nL 171.267149 210.822235 \nL 174.341529 210.822386 \nL 177.415909 210.822497 \nL 180.490289 210.822579 \nL 183.564669 210.822639 \nL 186.63905 210.822684 \nL 189.71343 210.822717 \nL 192.78781 210.822742 \nL 195.86219 210.82276 \nL 198.93657 210.822773 \nL 202.01095 210.822783 \nL 205.085331 210.82279 \nL 208.159711 210.822795 \nL 211.234091 210.822799 \nL 214.308471 210.822802 \nL 217.382851 210.822804 \nL 220.457231 210.822806 \nL 223.531612 210.822807 \nL 226.605992 210.822808 \nL 229.680372 210.822809 \nL 232.754752 210.822809 \nL 235.829132 210.82281 \nL 238.903512 210.82281 \nL 241.977893 210.82281 \nL 245.052273 210.82281 \nL 248.126653 210.82281 \nL 251.201033 210.82281 \nL 254.275413 210.82281 \nL 257.349793 210.82281 \nL 260.424174 210.82281 \nL 263.498554 210.82281 \nL 266.572934 210.822811 \nL 269.647314 210.822811 \nL 272.721694 210.822811 \nL 275.796074 210.822811 \nL 278.870455 210.822811 \nL 281.944835 210.822811 \nL 285.019215 210.822811 \nL 288.093595 210.822811 \nL 291.167975 210.822811 \nL 294.242355 210.822811 \nL 297.316736 210.822811 \nL 300.391116 210.822811 \nL 303.465496 210.822811 \nL 306.539876 210.822811 \nL 309.614256 210.822811 \nL 312.688636 210.822811 \nL 315.763017 210.822811 \nL 318.837397 210.822811 \nL 321.911777 210.822811 \nL 324.986157 210.822811 \nL 328.060537 210.822811 \nL 331.134917 210.822811 \nL 334.209298 210.822811 \nL 337.283678 210.822811 \nL 340.358058 210.822811 \nL 343.432438 210.822811 \nL 346.506818 210.822811 \n\" style=\"fill:none;stroke:#1f77b4;stroke-linecap:square;stroke-opacity:0.6;stroke-width:3;\"/>\n   </g>\n   <g id=\"patch_3\">\n    <path d=\"M 26.925 224.64 \nL 26.925 7.2 \n\" style=\"fill:none;stroke:#000000;stroke-linecap:square;stroke-linejoin:miter;stroke-width:0.8;\"/>\n   </g>\n   <g id=\"patch_4\">\n    <path d=\"M 361.725 224.64 \nL 361.725 7.2 \n\" style=\"fill:none;stroke:#000000;stroke-linecap:square;stroke-linejoin:miter;stroke-width:0.8;\"/>\n   </g>\n   <g id=\"patch_5\">\n    <path d=\"M 26.925 224.64 \nL 361.725 224.64 \n\" style=\"fill:none;stroke:#000000;stroke-linecap:square;stroke-linejoin:miter;stroke-width:0.8;\"/>\n   </g>\n   <g id=\"patch_6\">\n    <path d=\"M 26.925 7.2 \nL 361.725 7.2 \n\" style=\"fill:none;stroke:#000000;stroke-linecap:square;stroke-linejoin:miter;stroke-width:0.8;\"/>\n   </g>\n  </g>\n </g>\n <defs>\n  <clipPath id=\"p6188efb9b2\">\n   <rect height=\"217.44\" width=\"334.8\" x=\"26.925\" y=\"7.2\"/>\n  </clipPath>\n </defs>\n</svg>\n",
      "image/png": "[encoded data removed]"
     },
     "metadata": {
      "needs_background": "light"
     }
    }
   ],
   "source": [
    "plt.plot(t, model, linewidth = 3, alpha = 0.6)\n",
    "plt.scatter(t, data, c = 'orange')\n",
    "plt.show()"
   ]
  },
  {
   "cell_type": "markdown",
   "metadata": {},
   "source": [
    "#### Forward Model Specification\n",
    "\n",
    "We can set up a forard model in the following way:\n",
    "\n",
    "$$ \\mathbf{y} = \\mathbf{g} + \\epsilon $$ \n",
    "\n",
    "$$ \\mathbf{g} = \\{g(\\theta_{1}), . . ., g(\\theta_{k})\\} $$\n",
    "\n",
    "$$ \\epsilon \\approx \\mathcal{N}(0, \\Phi^{-1}) $$ \n",
    "\n",
    "$$ \\Phi = \\{\\phi_1, . . ., \\phi_n\\} $$\n",
    "\n",
    "Where $\\mathbf{y}$ is a vector of N observation assumed to be generated by a nonlinear forward function $g(\\theta) + \\epsilon $ with $k$ parameters, \\theta, and $k$ precision parameters, $\\phi$. \n",
    "\n"
   ]
  },
  {
   "cell_type": "markdown",
   "metadata": {},
   "source": [
    "#### Inference Specification\n",
    "\n",
    "Using this forward model, we can parameterise the log-likelihood as multivariate normal distribution, with the data conditioned on parameters:\n",
    "\n",
    "$$ p(\\mathbf{y} \\mid \\mathbf{\\Theta}) = \\frac{N}{2} \\log(\\Phi) - \\frac{1}{2}(\\mathbf{y} - \\mathbf{g})^{T} \\Phi (\\mathbf{y} - \\mathbf{g}) $$\n",
    "\n",
    "Where $\\Theta$ is the set of independent parameters. We factorise the approximate posterior accordingly: \n",
    "\n",
    "$$ q(\\Theta \\mid \\mathbf{y}) = q(\\theta_n)q(\\phi_n) $$ \n",
    "\n",
    "and choose conjucate distributions for their form: \n",
    "\n",
    "$$ q(\\theta \\mid \\mathbf{y}) \\approx MVN(\\theta; \\mathbf{m}, \\Lambda^{-1}) $$ \n",
    "\n",
    "$$ q(\\phi \\mid \\mathbf{y}) \\approx Ga(\\phi; s, c) $$ \n",
    "\n",
    "Using these, we can construct the log posterior and thus update equations. \n",
    "\n",
    "\\begin{align}\n",
    "L &= \\log p(\\mathbf{y} \\mid \\mathbf{\\Theta}) + \\log p(\\theta) + \\log p(\\phi) \\\\\n",
    "&= \\underbrace{\\frac{N}{2} \\log(\\Phi) - \\frac{1}{2}(\\mathbf{y} - \\mathbf{g})^{T} \\Phi (\\mathbf{y} - \\mathbf{g})}_{\\log p(\\mathbf{y} \\mid \\mathbf{\\Theta})} \n",
    "- \\underbrace{\\frac{1}{2}(\\theta - \\mathbf{m_0})^{T} \\Lambda_0 (\\theta - \\mathbf{m_0})}_{\\log p(\\theta)}\n",
    "+ \\underbrace{(c_0 - 1)\\log\\phi - \\frac{1}{s_0} \\phi}_{\\log p(\\phi)}\n",
    "+ \\underbrace{const\\{\\theta, \\phi\\}}_{\\text{constant terms}}\n",
    "\\end{align}\n"
   ]
  },
  {
   "cell_type": "markdown",
   "metadata": {},
   "source": [
    "##### Compuational side note: \n",
    "\n",
    "We will need to make an approximation to the function $g(\\theta)$ for mathematical and computational convenience. Simply, we will take a first order Taylor expansion around the mean of the posterior distribution. \n",
    "\n",
    "$$ g(\\theta) \\approx g(\\mathbf{m}) + \\mathbf{J}(\\theta - \\mathbf{m}) $$ \n",
    "\n",
    "Where $\\mathbf{m}$ is the mean value and $\\mathbf{J}$ is the Jacobian matrix. \n",
    "\n",
    "In practice, we will compute this approximation using a simply central difference scheme. Let's define some functions to do this for us. "
   ]
  },
  {
   "cell_type": "code",
   "execution_count": 79,
   "metadata": {},
   "outputs": [],
   "source": [
    "def time_step(theta): \n",
    "    \"\"\"Control time stepping interval proportional to the parameter magnitiude. \n",
    "\n",
    "    args: \n",
    "    theta:: float \n",
    "    \"\"\"\n",
    "\n",
    "    delta = theta * 1e-5\n",
    "\n",
    "    if delta < 0:\n",
    "            delta = -delta\n",
    "    if delta < 1e-10:\n",
    "            delta = 1e-10\n",
    "    \n",
    "    return delta\n",
    "\n",
    "def central_difference(i, theta, delta, t):\n",
    "    \"\"\" Calculate the derivate using a first order central difference approximation\n",
    "\n",
    "    args: \n",
    "        i : int \n",
    "            parameter index\n",
    "    theta : np.array float \n",
    "            array of paramters for function, f\n",
    "    delta : float \n",
    "            time-step for central difference\n",
    "        t : np.array float\n",
    "            time steps to evaluate at\n",
    "    returns: \n",
    "        df : np.array, float \n",
    "             first order approximation, df, for time steps, t\n",
    "    \"\"\"\n",
    "    dtheta = np.array(theta), np.array(theta)\n",
    "\n",
    "    dtheta[0][i] += delta\n",
    "    dtheta[1][i] -= delta\n",
    "    df = (f(dtheta[0], t) - f(dtheta[1], t)) / (2 * delta)\n",
    "    return df\n",
    "\n",
    "def Jacobian(theta, t):\n",
    "    \"\"\"Compute the Jacobian for globally defined function, f, with parameter set Theta \n",
    "\n",
    "    args:\n",
    "    theta : np.array, float\n",
    "            parameters of global function, f\n",
    "        t : np.array, float \n",
    "            time steps to evaluate at\n",
    "\n",
    "    returns: \n",
    "        J : np.array, float\n",
    "            Jacobian vector/matrix evaluated at theta, t. \n",
    "    \"\"\"\n",
    "    J = None\n",
    "    #f_n = len(f)\n",
    "    p_n = len(theta)\n",
    "\n",
    "    for i in range(p_n):\n",
    "        delta = time_step(theta[i])\n",
    "        if J is None:\n",
    "                J = np.zeros([len(t), len(theta)], dtype=np.float32)\n",
    "        J[:,i] = central_difference(i, theta, delta, t)\n",
    "    \n",
    "    return J"
   ]
  },
  {
   "cell_type": "markdown",
   "metadata": {},
   "source": [
    "### Deriving updates"
   ]
  },
  {
   "cell_type": "code",
   "execution_count": 80,
   "metadata": {},
   "outputs": [],
   "source": [
    "def error_update(y, theta, t):\n",
    "    \"\"\"Calculate difference between data and model with updated parameters\n",
    "\n",
    "    args:\n",
    "        y : array, float \n",
    "            vector of noisy data (observations)\n",
    "    theta : array, float\n",
    "            vector of parameter values for model, f\n",
    "        t : array, float \n",
    "            vector of time steps at which to evaluate model \n",
    "    \n",
    "    returns:\n",
    "    error : array, float \n",
    "            vector of difference between noisy data and updated model\n",
    "    \"\"\"\n",
    "\n",
    "\n",
    "    error = y - f(theta[:2], t)\n",
    "    \n",
    "    return error"
   ]
  },
  {
   "cell_type": "code",
   "execution_count": 81,
   "metadata": {},
   "outputs": [],
   "source": [
    "def parameter_update(error, params, priors, J):\n",
    "    m, p, s, c = params\n",
    "    m0, p0, _, _ = priors\n",
    "\n",
    "    p_new = s*c*np.dot(J.transpose(), J) + p0\n",
    "    c_new = np.linalg.inv(p_new)\n",
    "    m_new = np.dot(c_new, (s * c * np.dot(J.transpose(), (error +    np.dot(J, m))) + np.dot(p0, m0)))\n",
    "    \n",
    "    params[0][:], params[1][:] = m_new, p_new\n",
    "\n",
    "    return params"
   ]
  },
  {
   "cell_type": "code",
   "execution_count": 82,
   "metadata": {},
   "outputs": [],
   "source": [
    "def noise_update(error, params, priors, J):\n",
    "    _, p, _, _ = params \n",
    "    _, _, s0, c0 = priors\n",
    "\n",
    "    N = len(data)\n",
    "\n",
    "    c = np.linalg.inv(p)\n",
    "    c_new = N/2 + c0\n",
    "    s_new = 1/(1/s0 + 1/2 * np.dot(error.transpose(), error) + 1/2 * np.trace(np.dot(c, np.dot(J.transpose(), J))))\n",
    "    \n",
    "    params[2][:], params[3][:] = c_new, s_new\n",
    "\n",
    "    return params"
   ]
  },
  {
   "cell_type": "code",
   "execution_count": 93,
   "metadata": {},
   "outputs": [],
   "source": [
    "def fit(data, params, priors, t, n): \n",
    "    \n",
    "\n",
    "    for i in range(20):\n",
    "        theta = params[0]\n",
    "        error = error_update(data, theta, t)\n",
    "        \n",
    "        J = Jacobian(theta, t)\n",
    "        params = parameter_update(error, params, priors, J)\n",
    "        params = noise_update(error, params, priors, J)\n",
    "\n",
    "    \n",
    "    return params\n"
   ]
  },
  {
   "cell_type": "code",
   "execution_count": 94,
   "metadata": {},
   "outputs": [],
   "source": [
    "m = np.array([1.0, 1.0])\n",
    "C = np.array([[1.0, 0], [0.0, 1.0]])\n",
    "p = np.linalg.inv(C)\n",
    "c = np.array([1e-8])\n",
    "s = np.array([50.0])\n",
    "\n",
    "params = m, p, c, s"
   ]
  },
  {
   "cell_type": "code",
   "execution_count": 95,
   "metadata": {},
   "outputs": [],
   "source": [
    "m0 = np.array([1.0, 1.0])\n",
    "a_var0, lam_var0 = np.array([1000, 1.0])\n",
    "C0 = np.array([[a_var0, 0], [0, lam_var0]])\n",
    "p0 = np.linalg.inv(C0)\n",
    " \n",
    "\n",
    "beta_mean0 = 1\n",
    "beta_var0 = 1000\n",
    "# c=scale, s=shape parameters for Gamma distribution\n",
    "c0 = beta_var0 / beta_mean0\n",
    "s0 = beta_mean0**2 / beta_var0\n",
    "\n",
    "priors = m0, p0, c0, s0 "
   ]
  },
  {
   "cell_type": "code",
   "execution_count": 99,
   "metadata": {
    "tags": []
   },
   "outputs": [],
   "source": [
    "results = fit(data, params, priors, t, n=100)"
   ]
  },
  {
   "cell_type": "code",
   "execution_count": 100,
   "metadata": {},
   "outputs": [
    {
     "output_type": "execute_result",
     "data": {
      "text/plain": "(array([41.51211394,  1.48725781]),\n array([[  26.94121991, -274.25755883],\n        [-274.25755883, 7885.01047468]]),\n array([50.001]),\n array([0.24336709]))"
     },
     "metadata": {},
     "execution_count": 100
    }
   ],
   "source": [
    "results"
   ]
  },
  {
   "cell_type": "code",
   "execution_count": null,
   "metadata": {},
   "outputs": [],
   "source": []
  }
 ]
}