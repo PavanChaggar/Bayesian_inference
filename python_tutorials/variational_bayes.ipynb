{
 "metadata": {
  "language_info": {
   "codemirror_mode": {
    "name": "ipython",
    "version": 3
   },
   "file_extension": ".py",
   "mimetype": "text/x-python",
   "name": "python",
   "nbconvert_exporter": "python",
   "pygments_lexer": "ipython3",
   "version": "3.7.3-final"
  },
  "orig_nbformat": 2,
  "kernelspec": {
   "name": "python_defaultSpec_1596563858179",
   "display_name": "Python 3.7.3 64-bit ('env': venv)"
  }
 },
 "nbformat": 4,
 "nbformat_minor": 2,
 "cells": [
  {
   "cell_type": "markdown",
   "metadata": {},
   "source": [
    "# Variational Bayesian Inference\n",
    "\n",
    "In this notebook, we will review the variational Bayes process, beginning with a technical introduction to the formalism and derivation, followed by a python implementation. \n",
    "The material covered here references Blei et al., 2018, Varitional Inference: A Review for Statisticians and Chappel et al., 2016. The FMRIB Variational Bayes Tutorial. \n"
   ]
  },
  {
   "cell_type": "markdown",
   "metadata": {},
   "source": [
    "## Technical Overview\n",
    "\n",
    "### Problem Statement \n",
    "\n",
    "Similarly to problems addressed by sampling methods, the goal of variational inference (VI) is to approximate parameter distributions from data, specifically in cases where an analytical treatment is intractable. \n",
    "\n",
    "Consider the following example (from Blei et al., 2018): \n",
    "\n",
    "For latent variabels $\\mathbf{z} = z_{1:m}$ and observations $\\mathbf{x} = x_{1:n}$, the posterior conditional density is given by : \n",
    "\n",
    "$$ p(\\mathbf{z} \\mid \\mathbf{x}) = \\frac{p(\\mathbf{x} \\mid \\mathbf{z}) * p(\\mathbf{z})}{p(\\mathbf{x})} $$\n",
    "\n",
    "The denominator, ${p(\\mathbf{x})}$, whose value is needed to compute the posterior, is calculated by: \n",
    "\n",
    "$$ {p(\\mathbf{x})} = \\int p(\\mathbf{z} , \\mathbf{x}) dz $$\n",
    "\n",
    "\n",
    "This integral is often intractable or too computationally expensive to be feasible. For similar reasons (notably the number of latent variables)sampling methods are slow to converge.\n",
    "\n",
    "VI aims to circumvent the large time complexity by approaching the problem through optimisation. \n",
    "\n",
    "The process begins by positing a contrived _approximate_ density, $\\mathfrak{D}$ of latent variables $\\mathbf{z}$. Then, using this density can find a set of valuers for $q(\\mathbf{z}) \\in \\mathfrak{D}$ whose values maximise the Kullback-Liebler divergence between the approximate density and the true posterior. \n",
    "\n",
    "$$ q^{*}(\\mathbf{z}) = \\underset{q(\\mathbf{z}) \\in \\mathfrak{D}}{argmin} \\mathrm{KL}(q(\\mathbf{z}) \\mid \\mid p(\\mathbf{z} \\mid \\mathbf{x})) $$\n"
   ]
  },
  {
   "cell_type": "markdown",
   "metadata": {},
   "source": [
    "### VI Computation \n",
    "\n",
    "To compute the optimsation problem stated above requires we do manipulation of the terms. This is because the problem is still dependent on the _evidence_ term ($p(\\mathbf{x})$; recall, the intragral of this is often difficult/intractable). To see this clearly, we can rewrite out expression using Bayes rule: \n",
    "\n",
    "$$ q^{*}(\\mathbf{z}) = \\underset{q(\\mathbf{z}) \\in \\mathfrak{D}}{argmin} \\mathrm{KL}\\bigg(q(\\mathbf{z}) \\mid \\mid \\frac{p(\\mathbf{z}, \\mathbf{x})}{p(\\mathbf{x})}\\bigg) $$\n",
    "\n",
    "We can avoid evidence term using the following manipulations. First, let's break down the KL divergence: \n",
    "\n",
    "$$ KL(q(\\mathbf{z}) \\mid \\mid p(\\mathbf{z} \\mid \\mathbf{x})) = \\mathbb{E}[\\log q(\\mathbf{z})] - \\mathbb{E}[\\log p(\\mathbf{z} \\mid \\mathbf{x})] + \\log p(\\mathbf{x}) $$\n",
    "\n",
    "Observing that the evidence term is constant and additive, we can formulate the Evidence Lower Bound (ELBO) as: \n",
    "\n",
    "\n",
    "\\begin{align}\n",
    " ELBO(q) &= - KL(q(\\mathbf{z}) \\mid \\mid p(\\mathbf{z} \\mid \\mathbf{x})) - \\log p(\\mathbf{x}) \\\\\n",
    " \n",
    "         &= \\mathbb{E}[\\log p(\\mathbf{z}, \\mathbf{x})] - \\mathbb{E}[\\log q(\\mathbf{z})]\n",
    "\\end{align}\n",
    "\n",
    "Note that, maximsing the ELBO is the same as minimising the KL divergence. \n",
    "\n",
    "By exanding the joint probaibility, we can rewrit the ELBO in terms of the log likelihood and KL divergence between our prior $p(\\mathbf{z})$ and our variational density $q(\\mathbf{z})$: \n",
    "\n",
    "\\begin{align}\n",
    "ELBO(q) &= \\mathbb{E}[\\log p(\\mathbf{x} \\mid \\mathbf{z})] + \\mathbb{E}[\\log p(\\mathbf{z})] - \\mathbb{E}[\\log q(\\mathbf{z})] \\\\\n",
    "\n",
    "&= \\mathbb{E}[\\log p(\\mathbf{x} \\mid \\mathbf{z}) - KL(q(\\mathbf{z}) \\mid \\mid p(\\mathbf{z}))\n",
    "\\end{align}\n",
    "\n",
    "\n",
    "\n"
   ]
  },
  {
   "cell_type": "markdown",
   "metadata": {},
   "source": [
    "### Generalisation for Non-Linear Models\n",
    "\n",
    "We can use this formulation of the ELBO to compare nonlinear models. \n",
    "\n",
    "### Set-up\n",
    "\n",
    "$$ \\mathbf{y} = \\mathbf{g} + \\epsilon $$ \n",
    "\n",
    "$$ \\mathbf{g} = \\{g(\\theta_{1}), . . ., g(\\theta_{k})\\} $$\n",
    "\n",
    "$$ \\epsilon \\approx \\mathcal{N}(0, \\Phi^{-1}) $$ \n",
    "\n",
    "$$ \\Phi = \\{\\phi_1, . . ., \\phi_n\\} $$\n",
    "\n",
    "Where $\\mathbf{y}$ is a vector of N observation assumed to be generated by a nonlinear forward function $g(\\theta) + \\epsilon $ \n",
    "\n",
    "We can parameterise the log-likelihood as multivariate normal distribution, with the data conditioned on parameters:\n",
    "\n",
    "$$ p(\\mathbf{y} \\mid \\mathbf{\\Theta}) = \\frac{N}{2} \\log(\\Phi) - \\frac{1}{2}(\\mathbf{y} - \\mathbf{g})^{T} \\Phi (\\mathbf{y} - \\mathbf{g}) $$\n",
    "\n",
    "Where \\Theta is the set of independent parameters. We factorise the approximate posterior accordingly: \n",
    "\n",
    "$$ q(\\Theta \\mid \\mathbf{y}) = q(\\theta_n)q(\\phi_n) $$ \n",
    "\n",
    "Where, \n",
    "\n",
    "$$ q(\\theta \\mid \\mathbf{y}) \\approx MVN(\\theta; \\mathbf{m}, \\Lambda^{-1}) $$ \n",
    "\n",
    "$$ q(\\phi \\mid \\mathbf{y}) \\approx Ga(\\phi; s, c) $$ \n",
    "\n",
    "Using these, we can construct the log posterior and thus update equations. \n",
    "\n",
    "\n",
    "\\begin{align}\n",
    "\n",
    "L &= p(\\mathbf{y} \\mid \\mathbf{\\Theta}) + \\log p(\\theta) + \\log p(\\phi)\n",
    "\\\\\n",
    "\\\\\n",
    "\n",
    "&= \\frac{N}{2} \\log(\\Phi) - \\frac{1}{2}(\\mathbf{y} - \\mathbf{g})^{T} \\Phi (\\mathbf{y} - \\mathbf{g}) \n",
    "\\\\\n",
    "&- \\frac{1}{2}(\\theta - \\mathbf{m_0})^{T} \\Lambda_0 (\\theta - \\mathbf{m_0})\n",
    "\\\\\n",
    "&(c_0)\\log\\phi - \\frac{1}{s_0} \\phi\n",
    "\\\\\n",
    "&const(\\Theta)\n",
    "\n",
    "\\end{align}\n"
   ]
  },
  {
   "cell_type": "markdown",
   "metadata": {},
   "source": [
    "### Model Definition \n",
    "\n",
    "We will work with an exponential decay model to explore the variational Bayes framework\n",
    "\n",
    "$$ y = ae^{-\\lambda t} + \\epsilon $$\n",
    "$$ \\epsilon = \\mathcal{N}(0,\\phi^{1}) $$\n",
    "\n",
    "We can define this using a simple lambda function and some parameter values. "
   ]
  },
  {
   "cell_type": "code",
   "execution_count": 20,
   "metadata": {},
   "outputs": [],
   "source": [
    "import numpy as np\n",
    "import matplotlib.pyplot as plt "
   ]
  },
  {
   "cell_type": "code",
   "execution_count": 26,
   "metadata": {},
   "outputs": [],
   "source": [
    "f = lambda a, l: a * np.exp(-l * t)\n",
    "\n",
    "a = 42\n",
    "l = 1.5\n",
    "t = np.linspace(0,20,100)\n",
    "\n",
    "phi = 100 "
   ]
  },
  {
   "cell_type": "code",
   "execution_count": 67,
   "metadata": {},
   "outputs": [],
   "source": [
    "model = f(a, l)\n",
    "data = f(a, l) + np.random.normal(0, np.sqrt(1/10), t.shape[0])"
   ]
  },
  {
   "cell_type": "code",
   "execution_count": 68,
   "metadata": {},
   "outputs": [
    {
     "output_type": "display_data",
     "data": {
      "text/plain": "<Figure size 432x288 with 1 Axes>",
      "image/svg+xml": "<?xml version=\"1.0\" encoding=\"utf-8\" standalone=\"no\"?>\n<!DOCTYPE svg PUBLIC \"-//W3C//DTD SVG 1.1//EN\"\n  \"http://www.w3.org/Graphics/SVG/1.1/DTD/svg11.dtd\">\n<!-- Created with matplotlib (https://matplotlib.org/) -->\n<svg height=\"248.518125pt\" version=\"1.1\" viewBox=\"0 0 368.925 248.518125\" width=\"368.925pt\" xmlns=\"http://www.w3.org/2000/svg\" xmlns:xlink=\"http://www.w3.org/1999/xlink\">\n <defs>\n  <style type=\"text/css\">\n*{stroke-linecap:butt;stroke-linejoin:round;}\n  </style>\n </defs>\n <g id=\"figure_1\">\n  <g id=\"patch_1\">\n   <path d=\"M -0 248.518125 \nL 368.925 248.518125 \nL 368.925 0 \nL -0 0 \nz\n\" style=\"fill:none;\"/>\n  </g>\n  <g id=\"axes_1\">\n   <g id=\"patch_2\">\n    <path d=\"M 26.925 224.64 \nL 361.725 224.64 \nL 361.725 7.2 \nL 26.925 7.2 \nz\n\" style=\"fill:#ffffff;\"/>\n   </g>\n   <g id=\"PathCollection_1\">\n    <defs>\n     <path d=\"M 0 3 \nC 0.795609 3 1.55874 2.683901 2.12132 2.12132 \nC 2.683901 1.55874 3 0.795609 3 0 \nC 3 -0.795609 2.683901 -1.55874 2.12132 -2.12132 \nC 1.55874 -2.683901 0.795609 -3 0 -3 \nC -0.795609 -3 -1.55874 -2.683901 -2.12132 -2.12132 \nC -2.683901 -1.55874 -3 -0.795609 -3 0 \nC -3 0.795609 -2.683901 1.55874 -2.12132 2.12132 \nC -1.55874 2.683901 -0.795609 3 0 3 \nz\n\" id=\"m4e730c1d64\" style=\"stroke:#ffa500;\"/>\n    </defs>\n    <g clip-path=\"url(#pa5a9eec3f4)\">\n     <use style=\"fill:#ffa500;stroke:#ffa500;\" x=\"42.143182\" xlink:href=\"#m4e730c1d64\" y=\"18.928506\"/>\n     <use style=\"fill:#ffa500;stroke:#ffa500;\" x=\"45.217562\" xlink:href=\"#m4e730c1d64\" y=\"66.076164\"/>\n     <use style=\"fill:#ffa500;stroke:#ffa500;\" x=\"48.291942\" xlink:href=\"#m4e730c1d64\" y=\"106.395724\"/>\n     <use style=\"fill:#ffa500;stroke:#ffa500;\" x=\"51.366322\" xlink:href=\"#m4e730c1d64\" y=\"133.463711\"/>\n     <use style=\"fill:#ffa500;stroke:#ffa500;\" x=\"54.440702\" xlink:href=\"#m4e730c1d64\" y=\"152.668124\"/>\n     <use style=\"fill:#ffa500;stroke:#ffa500;\" x=\"57.515083\" xlink:href=\"#m4e730c1d64\" y=\"168.731861\"/>\n     <use style=\"fill:#ffa500;stroke:#ffa500;\" x=\"60.589463\" xlink:href=\"#m4e730c1d64\" y=\"179.566454\"/>\n     <use style=\"fill:#ffa500;stroke:#ffa500;\" x=\"63.663843\" xlink:href=\"#m4e730c1d64\" y=\"189.997279\"/>\n     <use style=\"fill:#ffa500;stroke:#ffa500;\" x=\"66.738223\" xlink:href=\"#m4e730c1d64\" y=\"194.408242\"/>\n     <use style=\"fill:#ffa500;stroke:#ffa500;\" x=\"69.812603\" xlink:href=\"#m4e730c1d64\" y=\"196.087458\"/>\n     <use style=\"fill:#ffa500;stroke:#ffa500;\" x=\"72.886983\" xlink:href=\"#m4e730c1d64\" y=\"200.321791\"/>\n     <use style=\"fill:#ffa500;stroke:#ffa500;\" x=\"75.961364\" xlink:href=\"#m4e730c1d64\" y=\"207.72096\"/>\n     <use style=\"fill:#ffa500;stroke:#ffa500;\" x=\"79.035744\" xlink:href=\"#m4e730c1d64\" y=\"207.766064\"/>\n     <use style=\"fill:#ffa500;stroke:#ffa500;\" x=\"82.110124\" xlink:href=\"#m4e730c1d64\" y=\"207.242988\"/>\n     <use style=\"fill:#ffa500;stroke:#ffa500;\" x=\"85.184504\" xlink:href=\"#m4e730c1d64\" y=\"208.780446\"/>\n     <use style=\"fill:#ffa500;stroke:#ffa500;\" x=\"88.258884\" xlink:href=\"#m4e730c1d64\" y=\"209.891807\"/>\n     <use style=\"fill:#ffa500;stroke:#ffa500;\" x=\"91.333264\" xlink:href=\"#m4e730c1d64\" y=\"208.655888\"/>\n     <use style=\"fill:#ffa500;stroke:#ffa500;\" x=\"94.407645\" xlink:href=\"#m4e730c1d64\" y=\"209.556608\"/>\n     <use style=\"fill:#ffa500;stroke:#ffa500;\" x=\"97.482025\" xlink:href=\"#m4e730c1d64\" y=\"211.625175\"/>\n     <use style=\"fill:#ffa500;stroke:#ffa500;\" x=\"100.556405\" xlink:href=\"#m4e730c1d64\" y=\"210.139573\"/>\n     <use style=\"fill:#ffa500;stroke:#ffa500;\" x=\"103.630785\" xlink:href=\"#m4e730c1d64\" y=\"210.564668\"/>\n     <use style=\"fill:#ffa500;stroke:#ffa500;\" x=\"106.705165\" xlink:href=\"#m4e730c1d64\" y=\"210.411762\"/>\n     <use style=\"fill:#ffa500;stroke:#ffa500;\" x=\"109.779545\" xlink:href=\"#m4e730c1d64\" y=\"212.383031\"/>\n     <use style=\"fill:#ffa500;stroke:#ffa500;\" x=\"112.853926\" xlink:href=\"#m4e730c1d64\" y=\"212.690116\"/>\n     <use style=\"fill:#ffa500;stroke:#ffa500;\" x=\"115.928306\" xlink:href=\"#m4e730c1d64\" y=\"206.326538\"/>\n     <use style=\"fill:#ffa500;stroke:#ffa500;\" x=\"119.002686\" xlink:href=\"#m4e730c1d64\" y=\"212.007881\"/>\n     <use style=\"fill:#ffa500;stroke:#ffa500;\" x=\"122.077066\" xlink:href=\"#m4e730c1d64\" y=\"211.227724\"/>\n     <use style=\"fill:#ffa500;stroke:#ffa500;\" x=\"125.151446\" xlink:href=\"#m4e730c1d64\" y=\"212.280703\"/>\n     <use style=\"fill:#ffa500;stroke:#ffa500;\" x=\"128.225826\" xlink:href=\"#m4e730c1d64\" y=\"211.587906\"/>\n     <use style=\"fill:#ffa500;stroke:#ffa500;\" x=\"131.300207\" xlink:href=\"#m4e730c1d64\" y=\"210.904943\"/>\n     <use style=\"fill:#ffa500;stroke:#ffa500;\" x=\"134.374587\" xlink:href=\"#m4e730c1d64\" y=\"210.527834\"/>\n     <use style=\"fill:#ffa500;stroke:#ffa500;\" x=\"137.448967\" xlink:href=\"#m4e730c1d64\" y=\"214.456241\"/>\n     <use style=\"fill:#ffa500;stroke:#ffa500;\" x=\"140.523347\" xlink:href=\"#m4e730c1d64\" y=\"213.011414\"/>\n     <use style=\"fill:#ffa500;stroke:#ffa500;\" x=\"143.597727\" xlink:href=\"#m4e730c1d64\" y=\"209.823917\"/>\n     <use style=\"fill:#ffa500;stroke:#ffa500;\" x=\"146.672107\" xlink:href=\"#m4e730c1d64\" y=\"209.689843\"/>\n     <use style=\"fill:#ffa500;stroke:#ffa500;\" x=\"149.746488\" xlink:href=\"#m4e730c1d64\" y=\"210.397424\"/>\n     <use style=\"fill:#ffa500;stroke:#ffa500;\" x=\"152.820868\" xlink:href=\"#m4e730c1d64\" y=\"209.352692\"/>\n     <use style=\"fill:#ffa500;stroke:#ffa500;\" x=\"155.895248\" xlink:href=\"#m4e730c1d64\" y=\"211.125345\"/>\n     <use style=\"fill:#ffa500;stroke:#ffa500;\" x=\"158.969628\" xlink:href=\"#m4e730c1d64\" y=\"212.803471\"/>\n     <use style=\"fill:#ffa500;stroke:#ffa500;\" x=\"162.044008\" xlink:href=\"#m4e730c1d64\" y=\"212.55907\"/>\n     <use style=\"fill:#ffa500;stroke:#ffa500;\" x=\"165.118388\" xlink:href=\"#m4e730c1d64\" y=\"214.39346\"/>\n     <use style=\"fill:#ffa500;stroke:#ffa500;\" x=\"168.192769\" xlink:href=\"#m4e730c1d64\" y=\"212.052551\"/>\n     <use style=\"fill:#ffa500;stroke:#ffa500;\" x=\"171.267149\" xlink:href=\"#m4e730c1d64\" y=\"210.51683\"/>\n     <use style=\"fill:#ffa500;stroke:#ffa500;\" x=\"174.341529\" xlink:href=\"#m4e730c1d64\" y=\"211.971263\"/>\n     <use style=\"fill:#ffa500;stroke:#ffa500;\" x=\"177.415909\" xlink:href=\"#m4e730c1d64\" y=\"212.006394\"/>\n     <use style=\"fill:#ffa500;stroke:#ffa500;\" x=\"180.490289\" xlink:href=\"#m4e730c1d64\" y=\"213.853211\"/>\n     <use style=\"fill:#ffa500;stroke:#ffa500;\" x=\"183.564669\" xlink:href=\"#m4e730c1d64\" y=\"210.777221\"/>\n     <use style=\"fill:#ffa500;stroke:#ffa500;\" x=\"186.63905\" xlink:href=\"#m4e730c1d64\" y=\"211.678693\"/>\n     <use style=\"fill:#ffa500;stroke:#ffa500;\" x=\"189.71343\" xlink:href=\"#m4e730c1d64\" y=\"209.849579\"/>\n     <use style=\"fill:#ffa500;stroke:#ffa500;\" x=\"192.78781\" xlink:href=\"#m4e730c1d64\" y=\"210.378052\"/>\n     <use style=\"fill:#ffa500;stroke:#ffa500;\" x=\"195.86219\" xlink:href=\"#m4e730c1d64\" y=\"212.661695\"/>\n     <use style=\"fill:#ffa500;stroke:#ffa500;\" x=\"198.93657\" xlink:href=\"#m4e730c1d64\" y=\"212.019443\"/>\n     <use style=\"fill:#ffa500;stroke:#ffa500;\" x=\"202.01095\" xlink:href=\"#m4e730c1d64\" y=\"211.503625\"/>\n     <use style=\"fill:#ffa500;stroke:#ffa500;\" x=\"205.085331\" xlink:href=\"#m4e730c1d64\" y=\"212.82455\"/>\n     <use style=\"fill:#ffa500;stroke:#ffa500;\" x=\"208.159711\" xlink:href=\"#m4e730c1d64\" y=\"212.993872\"/>\n     <use style=\"fill:#ffa500;stroke:#ffa500;\" x=\"211.234091\" xlink:href=\"#m4e730c1d64\" y=\"209.289828\"/>\n     <use style=\"fill:#ffa500;stroke:#ffa500;\" x=\"214.308471\" xlink:href=\"#m4e730c1d64\" y=\"210.297809\"/>\n     <use style=\"fill:#ffa500;stroke:#ffa500;\" x=\"217.382851\" xlink:href=\"#m4e730c1d64\" y=\"213.334179\"/>\n     <use style=\"fill:#ffa500;stroke:#ffa500;\" x=\"220.457231\" xlink:href=\"#m4e730c1d64\" y=\"212.899852\"/>\n     <use style=\"fill:#ffa500;stroke:#ffa500;\" x=\"223.531612\" xlink:href=\"#m4e730c1d64\" y=\"213.199709\"/>\n     <use style=\"fill:#ffa500;stroke:#ffa500;\" x=\"226.605992\" xlink:href=\"#m4e730c1d64\" y=\"212.15603\"/>\n     <use style=\"fill:#ffa500;stroke:#ffa500;\" x=\"229.680372\" xlink:href=\"#m4e730c1d64\" y=\"208.857531\"/>\n     <use style=\"fill:#ffa500;stroke:#ffa500;\" x=\"232.754752\" xlink:href=\"#m4e730c1d64\" y=\"213.564181\"/>\n     <use style=\"fill:#ffa500;stroke:#ffa500;\" x=\"235.829132\" xlink:href=\"#m4e730c1d64\" y=\"209.694544\"/>\n     <use style=\"fill:#ffa500;stroke:#ffa500;\" x=\"238.903512\" xlink:href=\"#m4e730c1d64\" y=\"211.243775\"/>\n     <use style=\"fill:#ffa500;stroke:#ffa500;\" x=\"241.977893\" xlink:href=\"#m4e730c1d64\" y=\"210.34147\"/>\n     <use style=\"fill:#ffa500;stroke:#ffa500;\" x=\"245.052273\" xlink:href=\"#m4e730c1d64\" y=\"210.43924\"/>\n     <use style=\"fill:#ffa500;stroke:#ffa500;\" x=\"248.126653\" xlink:href=\"#m4e730c1d64\" y=\"210.218906\"/>\n     <use style=\"fill:#ffa500;stroke:#ffa500;\" x=\"251.201033\" xlink:href=\"#m4e730c1d64\" y=\"211.535764\"/>\n     <use style=\"fill:#ffa500;stroke:#ffa500;\" x=\"254.275413\" xlink:href=\"#m4e730c1d64\" y=\"210.463856\"/>\n     <use style=\"fill:#ffa500;stroke:#ffa500;\" x=\"257.349793\" xlink:href=\"#m4e730c1d64\" y=\"212.60053\"/>\n     <use style=\"fill:#ffa500;stroke:#ffa500;\" x=\"260.424174\" xlink:href=\"#m4e730c1d64\" y=\"213.772862\"/>\n     <use style=\"fill:#ffa500;stroke:#ffa500;\" x=\"263.498554\" xlink:href=\"#m4e730c1d64\" y=\"209.655518\"/>\n     <use style=\"fill:#ffa500;stroke:#ffa500;\" x=\"266.572934\" xlink:href=\"#m4e730c1d64\" y=\"211.738716\"/>\n     <use style=\"fill:#ffa500;stroke:#ffa500;\" x=\"269.647314\" xlink:href=\"#m4e730c1d64\" y=\"211.288193\"/>\n     <use style=\"fill:#ffa500;stroke:#ffa500;\" x=\"272.721694\" xlink:href=\"#m4e730c1d64\" y=\"212.488858\"/>\n     <use style=\"fill:#ffa500;stroke:#ffa500;\" x=\"275.796074\" xlink:href=\"#m4e730c1d64\" y=\"211.278383\"/>\n     <use style=\"fill:#ffa500;stroke:#ffa500;\" x=\"278.870455\" xlink:href=\"#m4e730c1d64\" y=\"212.956827\"/>\n     <use style=\"fill:#ffa500;stroke:#ffa500;\" x=\"281.944835\" xlink:href=\"#m4e730c1d64\" y=\"214.756364\"/>\n     <use style=\"fill:#ffa500;stroke:#ffa500;\" x=\"285.019215\" xlink:href=\"#m4e730c1d64\" y=\"210.224653\"/>\n     <use style=\"fill:#ffa500;stroke:#ffa500;\" x=\"288.093595\" xlink:href=\"#m4e730c1d64\" y=\"211.790799\"/>\n     <use style=\"fill:#ffa500;stroke:#ffa500;\" x=\"291.167975\" xlink:href=\"#m4e730c1d64\" y=\"211.574669\"/>\n     <use style=\"fill:#ffa500;stroke:#ffa500;\" x=\"294.242355\" xlink:href=\"#m4e730c1d64\" y=\"212.640429\"/>\n     <use style=\"fill:#ffa500;stroke:#ffa500;\" x=\"297.316736\" xlink:href=\"#m4e730c1d64\" y=\"212.767638\"/>\n     <use style=\"fill:#ffa500;stroke:#ffa500;\" x=\"300.391116\" xlink:href=\"#m4e730c1d64\" y=\"210.677142\"/>\n     <use style=\"fill:#ffa500;stroke:#ffa500;\" x=\"303.465496\" xlink:href=\"#m4e730c1d64\" y=\"210.400429\"/>\n     <use style=\"fill:#ffa500;stroke:#ffa500;\" x=\"306.539876\" xlink:href=\"#m4e730c1d64\" y=\"211.518419\"/>\n     <use style=\"fill:#ffa500;stroke:#ffa500;\" x=\"309.614256\" xlink:href=\"#m4e730c1d64\" y=\"213.40097\"/>\n     <use style=\"fill:#ffa500;stroke:#ffa500;\" x=\"312.688636\" xlink:href=\"#m4e730c1d64\" y=\"211.50449\"/>\n     <use style=\"fill:#ffa500;stroke:#ffa500;\" x=\"315.763017\" xlink:href=\"#m4e730c1d64\" y=\"211.320985\"/>\n     <use style=\"fill:#ffa500;stroke:#ffa500;\" x=\"318.837397\" xlink:href=\"#m4e730c1d64\" y=\"211.70305\"/>\n     <use style=\"fill:#ffa500;stroke:#ffa500;\" x=\"321.911777\" xlink:href=\"#m4e730c1d64\" y=\"210.83583\"/>\n     <use style=\"fill:#ffa500;stroke:#ffa500;\" x=\"324.986157\" xlink:href=\"#m4e730c1d64\" y=\"211.961826\"/>\n     <use style=\"fill:#ffa500;stroke:#ffa500;\" x=\"328.060537\" xlink:href=\"#m4e730c1d64\" y=\"212.625286\"/>\n     <use style=\"fill:#ffa500;stroke:#ffa500;\" x=\"331.134917\" xlink:href=\"#m4e730c1d64\" y=\"209.979119\"/>\n     <use style=\"fill:#ffa500;stroke:#ffa500;\" x=\"334.209298\" xlink:href=\"#m4e730c1d64\" y=\"208.279268\"/>\n     <use style=\"fill:#ffa500;stroke:#ffa500;\" x=\"337.283678\" xlink:href=\"#m4e730c1d64\" y=\"210.960021\"/>\n     <use style=\"fill:#ffa500;stroke:#ffa500;\" x=\"340.358058\" xlink:href=\"#m4e730c1d64\" y=\"211.697231\"/>\n     <use style=\"fill:#ffa500;stroke:#ffa500;\" x=\"343.432438\" xlink:href=\"#m4e730c1d64\" y=\"210.856695\"/>\n     <use style=\"fill:#ffa500;stroke:#ffa500;\" x=\"346.506818\" xlink:href=\"#m4e730c1d64\" y=\"213.698006\"/>\n    </g>\n   </g>\n   <g id=\"matplotlib.axis_1\">\n    <g id=\"xtick_1\">\n     <g id=\"line2d_1\">\n      <defs>\n       <path d=\"M 0 0 \nL 0 3.5 \n\" id=\"mcce1cf8be3\" style=\"stroke:#000000;stroke-width:0.8;\"/>\n      </defs>\n      <g>\n       <use style=\"stroke:#000000;stroke-width:0.8;\" x=\"42.143182\" xlink:href=\"#mcce1cf8be3\" y=\"224.64\"/>\n      </g>\n     </g>\n     <g id=\"text_1\">\n      <!-- 0.0 -->\n      <defs>\n       <path d=\"M 31.78125 66.40625 \nQ 24.171875 66.40625 20.328125 58.90625 \nQ 16.5 51.421875 16.5 36.375 \nQ 16.5 21.390625 20.328125 13.890625 \nQ 24.171875 6.390625 31.78125 6.390625 \nQ 39.453125 6.390625 43.28125 13.890625 \nQ 47.125 21.390625 47.125 36.375 \nQ 47.125 51.421875 43.28125 58.90625 \nQ 39.453125 66.40625 31.78125 66.40625 \nz\nM 31.78125 74.21875 \nQ 44.046875 74.21875 50.515625 64.515625 \nQ 56.984375 54.828125 56.984375 36.375 \nQ 56.984375 17.96875 50.515625 8.265625 \nQ 44.046875 -1.421875 31.78125 -1.421875 \nQ 19.53125 -1.421875 13.0625 8.265625 \nQ 6.59375 17.96875 6.59375 36.375 \nQ 6.59375 54.828125 13.0625 64.515625 \nQ 19.53125 74.21875 31.78125 74.21875 \nz\n\" id=\"DejaVuSans-48\"/>\n       <path d=\"M 10.6875 12.40625 \nL 21 12.40625 \nL 21 0 \nL 10.6875 0 \nz\n\" id=\"DejaVuSans-46\"/>\n      </defs>\n      <g transform=\"translate(34.191619 239.238437)scale(0.1 -0.1)\">\n       <use xlink:href=\"#DejaVuSans-48\"/>\n       <use x=\"63.623047\" xlink:href=\"#DejaVuSans-46\"/>\n       <use x=\"95.410156\" xlink:href=\"#DejaVuSans-48\"/>\n      </g>\n     </g>\n    </g>\n    <g id=\"xtick_2\">\n     <g id=\"line2d_2\">\n      <g>\n       <use style=\"stroke:#000000;stroke-width:0.8;\" x=\"80.188636\" xlink:href=\"#mcce1cf8be3\" y=\"224.64\"/>\n      </g>\n     </g>\n     <g id=\"text_2\">\n      <!-- 2.5 -->\n      <defs>\n       <path d=\"M 19.1875 8.296875 \nL 53.609375 8.296875 \nL 53.609375 0 \nL 7.328125 0 \nL 7.328125 8.296875 \nQ 12.9375 14.109375 22.625 23.890625 \nQ 32.328125 33.6875 34.8125 36.53125 \nQ 39.546875 41.84375 41.421875 45.53125 \nQ 43.3125 49.21875 43.3125 52.78125 \nQ 43.3125 58.59375 39.234375 62.25 \nQ 35.15625 65.921875 28.609375 65.921875 \nQ 23.96875 65.921875 18.8125 64.3125 \nQ 13.671875 62.703125 7.8125 59.421875 \nL 7.8125 69.390625 \nQ 13.765625 71.78125 18.9375 73 \nQ 24.125 74.21875 28.421875 74.21875 \nQ 39.75 74.21875 46.484375 68.546875 \nQ 53.21875 62.890625 53.21875 53.421875 \nQ 53.21875 48.921875 51.53125 44.890625 \nQ 49.859375 40.875 45.40625 35.40625 \nQ 44.1875 33.984375 37.640625 27.21875 \nQ 31.109375 20.453125 19.1875 8.296875 \nz\n\" id=\"DejaVuSans-50\"/>\n       <path d=\"M 10.796875 72.90625 \nL 49.515625 72.90625 \nL 49.515625 64.59375 \nL 19.828125 64.59375 \nL 19.828125 46.734375 \nQ 21.96875 47.46875 24.109375 47.828125 \nQ 26.265625 48.1875 28.421875 48.1875 \nQ 40.625 48.1875 47.75 41.5 \nQ 54.890625 34.8125 54.890625 23.390625 \nQ 54.890625 11.625 47.5625 5.09375 \nQ 40.234375 -1.421875 26.90625 -1.421875 \nQ 22.3125 -1.421875 17.546875 -0.640625 \nQ 12.796875 0.140625 7.71875 1.703125 \nL 7.71875 11.625 \nQ 12.109375 9.234375 16.796875 8.0625 \nQ 21.484375 6.890625 26.703125 6.890625 \nQ 35.15625 6.890625 40.078125 11.328125 \nQ 45.015625 15.765625 45.015625 23.390625 \nQ 45.015625 31 40.078125 35.4375 \nQ 35.15625 39.890625 26.703125 39.890625 \nQ 22.75 39.890625 18.8125 39.015625 \nQ 14.890625 38.140625 10.796875 36.28125 \nz\n\" id=\"DejaVuSans-53\"/>\n      </defs>\n      <g transform=\"translate(72.237074 239.238437)scale(0.1 -0.1)\">\n       <use xlink:href=\"#DejaVuSans-50\"/>\n       <use x=\"63.623047\" xlink:href=\"#DejaVuSans-46\"/>\n       <use x=\"95.410156\" xlink:href=\"#DejaVuSans-53\"/>\n      </g>\n     </g>\n    </g>\n    <g id=\"xtick_3\">\n     <g id=\"line2d_3\">\n      <g>\n       <use style=\"stroke:#000000;stroke-width:0.8;\" x=\"118.234091\" xlink:href=\"#mcce1cf8be3\" y=\"224.64\"/>\n      </g>\n     </g>\n     <g id=\"text_3\">\n      <!-- 5.0 -->\n      <g transform=\"translate(110.282528 239.238437)scale(0.1 -0.1)\">\n       <use xlink:href=\"#DejaVuSans-53\"/>\n       <use x=\"63.623047\" xlink:href=\"#DejaVuSans-46\"/>\n       <use x=\"95.410156\" xlink:href=\"#DejaVuSans-48\"/>\n      </g>\n     </g>\n    </g>\n    <g id=\"xtick_4\">\n     <g id=\"line2d_4\">\n      <g>\n       <use style=\"stroke:#000000;stroke-width:0.8;\" x=\"156.279545\" xlink:href=\"#mcce1cf8be3\" y=\"224.64\"/>\n      </g>\n     </g>\n     <g id=\"text_4\">\n      <!-- 7.5 -->\n      <defs>\n       <path d=\"M 8.203125 72.90625 \nL 55.078125 72.90625 \nL 55.078125 68.703125 \nL 28.609375 0 \nL 18.3125 0 \nL 43.21875 64.59375 \nL 8.203125 64.59375 \nz\n\" id=\"DejaVuSans-55\"/>\n      </defs>\n      <g transform=\"translate(148.327983 239.238437)scale(0.1 -0.1)\">\n       <use xlink:href=\"#DejaVuSans-55\"/>\n       <use x=\"63.623047\" xlink:href=\"#DejaVuSans-46\"/>\n       <use x=\"95.410156\" xlink:href=\"#DejaVuSans-53\"/>\n      </g>\n     </g>\n    </g>\n    <g id=\"xtick_5\">\n     <g id=\"line2d_5\">\n      <g>\n       <use style=\"stroke:#000000;stroke-width:0.8;\" x=\"194.325\" xlink:href=\"#mcce1cf8be3\" y=\"224.64\"/>\n      </g>\n     </g>\n     <g id=\"text_5\">\n      <!-- 10.0 -->\n      <defs>\n       <path d=\"M 12.40625 8.296875 \nL 28.515625 8.296875 \nL 28.515625 63.921875 \nL 10.984375 60.40625 \nL 10.984375 69.390625 \nL 28.421875 72.90625 \nL 38.28125 72.90625 \nL 38.28125 8.296875 \nL 54.390625 8.296875 \nL 54.390625 0 \nL 12.40625 0 \nz\n\" id=\"DejaVuSans-49\"/>\n      </defs>\n      <g transform=\"translate(183.192188 239.238437)scale(0.1 -0.1)\">\n       <use xlink:href=\"#DejaVuSans-49\"/>\n       <use x=\"63.623047\" xlink:href=\"#DejaVuSans-48\"/>\n       <use x=\"127.246094\" xlink:href=\"#DejaVuSans-46\"/>\n       <use x=\"159.033203\" xlink:href=\"#DejaVuSans-48\"/>\n      </g>\n     </g>\n    </g>\n    <g id=\"xtick_6\">\n     <g id=\"line2d_6\">\n      <g>\n       <use style=\"stroke:#000000;stroke-width:0.8;\" x=\"232.370455\" xlink:href=\"#mcce1cf8be3\" y=\"224.64\"/>\n      </g>\n     </g>\n     <g id=\"text_6\">\n      <!-- 12.5 -->\n      <g transform=\"translate(221.237642 239.238437)scale(0.1 -0.1)\">\n       <use xlink:href=\"#DejaVuSans-49\"/>\n       <use x=\"63.623047\" xlink:href=\"#DejaVuSans-50\"/>\n       <use x=\"127.246094\" xlink:href=\"#DejaVuSans-46\"/>\n       <use x=\"159.033203\" xlink:href=\"#DejaVuSans-53\"/>\n      </g>\n     </g>\n    </g>\n    <g id=\"xtick_7\">\n     <g id=\"line2d_7\">\n      <g>\n       <use style=\"stroke:#000000;stroke-width:0.8;\" x=\"270.415909\" xlink:href=\"#mcce1cf8be3\" y=\"224.64\"/>\n      </g>\n     </g>\n     <g id=\"text_7\">\n      <!-- 15.0 -->\n      <g transform=\"translate(259.283097 239.238437)scale(0.1 -0.1)\">\n       <use xlink:href=\"#DejaVuSans-49\"/>\n       <use x=\"63.623047\" xlink:href=\"#DejaVuSans-53\"/>\n       <use x=\"127.246094\" xlink:href=\"#DejaVuSans-46\"/>\n       <use x=\"159.033203\" xlink:href=\"#DejaVuSans-48\"/>\n      </g>\n     </g>\n    </g>\n    <g id=\"xtick_8\">\n     <g id=\"line2d_8\">\n      <g>\n       <use style=\"stroke:#000000;stroke-width:0.8;\" x=\"308.461364\" xlink:href=\"#mcce1cf8be3\" y=\"224.64\"/>\n      </g>\n     </g>\n     <g id=\"text_8\">\n      <!-- 17.5 -->\n      <g transform=\"translate(297.328551 239.238437)scale(0.1 -0.1)\">\n       <use xlink:href=\"#DejaVuSans-49\"/>\n       <use x=\"63.623047\" xlink:href=\"#DejaVuSans-55\"/>\n       <use x=\"127.246094\" xlink:href=\"#DejaVuSans-46\"/>\n       <use x=\"159.033203\" xlink:href=\"#DejaVuSans-53\"/>\n      </g>\n     </g>\n    </g>\n    <g id=\"xtick_9\">\n     <g id=\"line2d_9\">\n      <g>\n       <use style=\"stroke:#000000;stroke-width:0.8;\" x=\"346.506818\" xlink:href=\"#mcce1cf8be3\" y=\"224.64\"/>\n      </g>\n     </g>\n     <g id=\"text_9\">\n      <!-- 20.0 -->\n      <g transform=\"translate(335.374006 239.238437)scale(0.1 -0.1)\">\n       <use xlink:href=\"#DejaVuSans-50\"/>\n       <use x=\"63.623047\" xlink:href=\"#DejaVuSans-48\"/>\n       <use x=\"127.246094\" xlink:href=\"#DejaVuSans-46\"/>\n       <use x=\"159.033203\" xlink:href=\"#DejaVuSans-48\"/>\n      </g>\n     </g>\n    </g>\n   </g>\n   <g id=\"matplotlib.axis_2\">\n    <g id=\"ytick_1\">\n     <g id=\"line2d_10\">\n      <defs>\n       <path d=\"M 0 0 \nL -3.5 0 \n\" id=\"m1d75add983\" style=\"stroke:#000000;stroke-width:0.8;\"/>\n      </defs>\n      <g>\n       <use style=\"stroke:#000000;stroke-width:0.8;\" x=\"26.925\" xlink:href=\"#m1d75add983\" y=\"211.345565\"/>\n      </g>\n     </g>\n     <g id=\"text_10\">\n      <!-- 0 -->\n      <g transform=\"translate(13.5625 215.144784)scale(0.1 -0.1)\">\n       <use xlink:href=\"#DejaVuSans-48\"/>\n      </g>\n     </g>\n    </g>\n    <g id=\"ytick_2\">\n     <g id=\"line2d_11\">\n      <g>\n       <use style=\"stroke:#000000;stroke-width:0.8;\" x=\"26.925\" xlink:href=\"#m1d75add983\" y=\"165.092725\"/>\n      </g>\n     </g>\n     <g id=\"text_11\">\n      <!-- 10 -->\n      <g transform=\"translate(7.2 168.891944)scale(0.1 -0.1)\">\n       <use xlink:href=\"#DejaVuSans-49\"/>\n       <use x=\"63.623047\" xlink:href=\"#DejaVuSans-48\"/>\n      </g>\n     </g>\n    </g>\n    <g id=\"ytick_3\">\n     <g id=\"line2d_12\">\n      <g>\n       <use style=\"stroke:#000000;stroke-width:0.8;\" x=\"26.925\" xlink:href=\"#m1d75add983\" y=\"118.839885\"/>\n      </g>\n     </g>\n     <g id=\"text_12\">\n      <!-- 20 -->\n      <g transform=\"translate(7.2 122.639103)scale(0.1 -0.1)\">\n       <use xlink:href=\"#DejaVuSans-50\"/>\n       <use x=\"63.623047\" xlink:href=\"#DejaVuSans-48\"/>\n      </g>\n     </g>\n    </g>\n    <g id=\"ytick_4\">\n     <g id=\"line2d_13\">\n      <g>\n       <use style=\"stroke:#000000;stroke-width:0.8;\" x=\"26.925\" xlink:href=\"#m1d75add983\" y=\"72.587045\"/>\n      </g>\n     </g>\n     <g id=\"text_13\">\n      <!-- 30 -->\n      <defs>\n       <path d=\"M 40.578125 39.3125 \nQ 47.65625 37.796875 51.625 33 \nQ 55.609375 28.21875 55.609375 21.1875 \nQ 55.609375 10.40625 48.1875 4.484375 \nQ 40.765625 -1.421875 27.09375 -1.421875 \nQ 22.515625 -1.421875 17.65625 -0.515625 \nQ 12.796875 0.390625 7.625 2.203125 \nL 7.625 11.71875 \nQ 11.71875 9.328125 16.59375 8.109375 \nQ 21.484375 6.890625 26.8125 6.890625 \nQ 36.078125 6.890625 40.9375 10.546875 \nQ 45.796875 14.203125 45.796875 21.1875 \nQ 45.796875 27.640625 41.28125 31.265625 \nQ 36.765625 34.90625 28.71875 34.90625 \nL 20.21875 34.90625 \nL 20.21875 43.015625 \nL 29.109375 43.015625 \nQ 36.375 43.015625 40.234375 45.921875 \nQ 44.09375 48.828125 44.09375 54.296875 \nQ 44.09375 59.90625 40.109375 62.90625 \nQ 36.140625 65.921875 28.71875 65.921875 \nQ 24.65625 65.921875 20.015625 65.03125 \nQ 15.375 64.15625 9.8125 62.3125 \nL 9.8125 71.09375 \nQ 15.4375 72.65625 20.34375 73.4375 \nQ 25.25 74.21875 29.59375 74.21875 \nQ 40.828125 74.21875 47.359375 69.109375 \nQ 53.90625 64.015625 53.90625 55.328125 \nQ 53.90625 49.265625 50.4375 45.09375 \nQ 46.96875 40.921875 40.578125 39.3125 \nz\n\" id=\"DejaVuSans-51\"/>\n      </defs>\n      <g transform=\"translate(7.2 76.386263)scale(0.1 -0.1)\">\n       <use xlink:href=\"#DejaVuSans-51\"/>\n       <use x=\"63.623047\" xlink:href=\"#DejaVuSans-48\"/>\n      </g>\n     </g>\n    </g>\n    <g id=\"ytick_5\">\n     <g id=\"line2d_14\">\n      <g>\n       <use style=\"stroke:#000000;stroke-width:0.8;\" x=\"26.925\" xlink:href=\"#m1d75add983\" y=\"26.334204\"/>\n      </g>\n     </g>\n     <g id=\"text_14\">\n      <!-- 40 -->\n      <defs>\n       <path d=\"M 37.796875 64.3125 \nL 12.890625 25.390625 \nL 37.796875 25.390625 \nz\nM 35.203125 72.90625 \nL 47.609375 72.90625 \nL 47.609375 25.390625 \nL 58.015625 25.390625 \nL 58.015625 17.1875 \nL 47.609375 17.1875 \nL 47.609375 0 \nL 37.796875 0 \nL 37.796875 17.1875 \nL 4.890625 17.1875 \nL 4.890625 26.703125 \nz\n\" id=\"DejaVuSans-52\"/>\n      </defs>\n      <g transform=\"translate(7.2 30.133423)scale(0.1 -0.1)\">\n       <use xlink:href=\"#DejaVuSans-52\"/>\n       <use x=\"63.623047\" xlink:href=\"#DejaVuSans-48\"/>\n      </g>\n     </g>\n    </g>\n   </g>\n   <g id=\"line2d_15\">\n    <path clip-path=\"url(#pa5a9eec3f4)\" d=\"M 42.143182 17.083636 \nL 45.217562 67.868228 \nL 48.291942 105.376545 \nL 51.366322 133.079314 \nL 54.440702 153.539934 \nL 57.515083 168.651672 \nL 60.589463 179.81285 \nL 63.663843 188.056236 \nL 66.738223 194.144609 \nL 69.812603 198.641339 \nL 72.886983 201.96252 \nL 75.961364 204.415466 \nL 79.035744 206.227155 \nL 82.110124 207.565227 \nL 85.184504 208.553495 \nL 88.258884 209.283407 \nL 91.333264 209.822503 \nL 94.407645 210.220667 \nL 97.482025 210.514742 \nL 100.556405 210.731938 \nL 103.630785 210.892354 \nL 106.705165 211.010834 \nL 109.779545 211.098341 \nL 112.853926 211.162971 \nL 115.928306 211.210705 \nL 119.002686 211.245961 \nL 122.077066 211.271999 \nL 125.151446 211.291231 \nL 128.225826 211.305435 \nL 131.300207 211.315926 \nL 134.374587 211.323674 \nL 137.448967 211.329397 \nL 140.523347 211.333624 \nL 143.597727 211.336745 \nL 146.672107 211.339051 \nL 149.746488 211.340754 \nL 152.820868 211.342012 \nL 155.895248 211.342941 \nL 158.969628 211.343627 \nL 162.044008 211.344133 \nL 165.118388 211.344508 \nL 168.192769 211.344784 \nL 171.267149 211.344988 \nL 174.341529 211.345139 \nL 177.415909 211.34525 \nL 180.490289 211.345333 \nL 183.564669 211.345393 \nL 186.63905 211.345438 \nL 189.71343 211.345471 \nL 192.78781 211.345496 \nL 195.86219 211.345514 \nL 198.93657 211.345527 \nL 202.01095 211.345537 \nL 205.085331 211.345544 \nL 208.159711 211.34555 \nL 211.234091 211.345554 \nL 214.308471 211.345557 \nL 217.382851 211.345559 \nL 220.457231 211.34556 \nL 223.531612 211.345562 \nL 226.605992 211.345562 \nL 229.680372 211.345563 \nL 232.754752 211.345564 \nL 235.829132 211.345564 \nL 238.903512 211.345564 \nL 241.977893 211.345564 \nL 245.052273 211.345564 \nL 248.126653 211.345565 \nL 251.201033 211.345565 \nL 254.275413 211.345565 \nL 257.349793 211.345565 \nL 260.424174 211.345565 \nL 263.498554 211.345565 \nL 266.572934 211.345565 \nL 269.647314 211.345565 \nL 272.721694 211.345565 \nL 275.796074 211.345565 \nL 278.870455 211.345565 \nL 281.944835 211.345565 \nL 285.019215 211.345565 \nL 288.093595 211.345565 \nL 291.167975 211.345565 \nL 294.242355 211.345565 \nL 297.316736 211.345565 \nL 300.391116 211.345565 \nL 303.465496 211.345565 \nL 306.539876 211.345565 \nL 309.614256 211.345565 \nL 312.688636 211.345565 \nL 315.763017 211.345565 \nL 318.837397 211.345565 \nL 321.911777 211.345565 \nL 324.986157 211.345565 \nL 328.060537 211.345565 \nL 331.134917 211.345565 \nL 334.209298 211.345565 \nL 337.283678 211.345565 \nL 340.358058 211.345565 \nL 343.432438 211.345565 \nL 346.506818 211.345565 \n\" style=\"fill:none;stroke:#1f77b4;stroke-linecap:square;stroke-opacity:0.6;stroke-width:3;\"/>\n   </g>\n   <g id=\"patch_3\">\n    <path d=\"M 26.925 224.64 \nL 26.925 7.2 \n\" style=\"fill:none;stroke:#000000;stroke-linecap:square;stroke-linejoin:miter;stroke-width:0.8;\"/>\n   </g>\n   <g id=\"patch_4\">\n    <path d=\"M 361.725 224.64 \nL 361.725 7.2 \n\" style=\"fill:none;stroke:#000000;stroke-linecap:square;stroke-linejoin:miter;stroke-width:0.8;\"/>\n   </g>\n   <g id=\"patch_5\">\n    <path d=\"M 26.925 224.64 \nL 361.725 224.64 \n\" style=\"fill:none;stroke:#000000;stroke-linecap:square;stroke-linejoin:miter;stroke-width:0.8;\"/>\n   </g>\n   <g id=\"patch_6\">\n    <path d=\"M 26.925 7.2 \nL 361.725 7.2 \n\" style=\"fill:none;stroke:#000000;stroke-linecap:square;stroke-linejoin:miter;stroke-width:0.8;\"/>\n   </g>\n  </g>\n </g>\n <defs>\n  <clipPath id=\"pa5a9eec3f4\">\n   <rect height=\"217.44\" width=\"334.8\" x=\"26.925\" y=\"7.2\"/>\n  </clipPath>\n </defs>\n</svg>\n",
      "image/png": "[encoded data removed]"
     },
     "metadata": {
      "needs_background": "light"
     }
    }
   ],
   "source": [
    "plt.plot(t, model, linewidth = 3, alpha = 0.6)\n",
    "plt.scatter(t, data, c = 'orange')\n",
    "plt.show()"
   ]
  },
  {
   "cell_type": "markdown",
   "metadata": {},
   "source": [
    "#### Forward Model Specification\n",
    "\n",
    "We can set up a forard model in the following way:\n",
    "\n",
    "$$ \\mathbf{y} = \\mathbf{g} + \\epsilon $$ \n",
    "\n",
    "$$ \\mathbf{g} = \\{g(\\theta_{1}), . . ., g(\\theta_{k})\\} $$\n",
    "\n",
    "$$ \\epsilon \\approx \\mathcal{N}(0, \\Phi^{-1}) $$ \n",
    "\n",
    "$$ \\Phi = \\{\\phi_1, . . ., \\phi_n\\} $$\n",
    "\n",
    "Where $\\mathbf{y}$ is a vector of N observation assumed to be generated by a nonlinear forward function $g(\\theta) + \\epsilon $ with $k$ parameters, \\theta, and $k$ precision parameters, $\\phi$. \n",
    "\n",
    "#### Inference Specification\n",
    "\n",
    "Using this forward model, we can parameterise the log-likelihood as multivariate normal distribution, with the data conditioned on parameters:\n",
    "\n",
    "$$ p(\\mathbf{y} \\mid \\mathbf{\\Theta}) = \\frac{N}{2} \\log(\\Phi) - \\frac{1}{2}(\\mathbf{y} - \\mathbf{g})^{T} \\Phi (\\mathbf{y} - \\mathbf{g}) $$\n",
    "\n",
    "Where \\Theta is the set of independent parameters. We factorise the approximate posterior accordingly: \n",
    "\n",
    "$$ q(\\Theta \\mid \\mathbf{y}) = q(\\theta_n)q(\\phi_n) $$ \n",
    "\n",
    "Where, \n",
    "\n",
    "$$ q(\\theta \\mid \\mathbf{y}) \\approx MVN(\\theta; \\mathbf{m}, \\Lambda^{-1}) $$ \n",
    "\n",
    "$$ q(\\phi \\mid \\mathbf{y}) \\approx Ga(\\phi; s, c) $$ \n",
    "\n",
    "Using these, we can construct the log posterior and thus update equations. \n",
    "\n",
    "\n",
    "\\begin{align}\n",
    "\n",
    "L &= p(\\mathbf{y} \\mid \\mathbf{\\Theta}) + \\log p(\\theta) + \\log p(\\phi)\n",
    "\\\\\n",
    "\\\\\n",
    "\n",
    "&= \\frac{N}{2} \\log(\\Phi) - \\frac{1}{2}(\\mathbf{y} - \\mathbf{g})^{T} \\Phi (\\mathbf{y} - \\mathbf{g}) \n",
    "\\\\\n",
    "&- \\frac{1}{2}(\\theta - \\mathbf{m_0})^{T} \\Lambda_0 (\\theta - \\mathbf{m_0})\n",
    "\\\\\n",
    "&(c_0)\\log\\phi - \\frac{1}{s_0} \\phi\n",
    "\\\\\n",
    "&const(\\Theta)\n",
    "\n",
    "\\end{align}\n"
   ]
  },
  {
   "cell_type": "code",
   "execution_count": null,
   "metadata": {},
   "outputs": [],
   "source": []
  }
 ]
}