{
 "metadata": {
  "language_info": {
   "codemirror_mode": {
    "name": "ipython",
    "version": 3
   },
   "file_extension": ".py",
   "mimetype": "text/x-python",
   "name": "python",
   "nbconvert_exporter": "python",
   "pygments_lexer": "ipython3",
   "version": "3.7.3-final"
  },
  "orig_nbformat": 2,
  "kernelspec": {
   "name": "python_defaultSpec_1595254137448",
   "display_name": "Python 3.7.3 64-bit ('env': venv)"
  }
 },
 "nbformat": 4,
 "nbformat_minor": 2,
 "cells": [
  {
   "cell_type": "markdown",
   "metadata": {},
   "source": [
    "# Nonlinear Model Fitting\n",
    " \n",
    "Nonlinear models typically do not have pleasant analytic posterior distributions. \n",
    "\n",
    "Here, we will demonstate three methods for parameter estimation in non-linear models: \n",
    "\n",
    "1. Grid search\n",
    "2. Laplace approximation \n",
    "3. MCMC, Metropolis-Hastings\n",
    "\n",
    "We will be working with the following nonlinear exponential model: \n",
    "\n",
    "$$ y = ae^{-bt} + \\epsilon $$\n",
    "\n",
    "\n",
    "\n",
    "\n",
    "\n",
    "\n",
    "\n"
   ]
  },
  {
   "cell_type": "code",
   "execution_count": null,
   "metadata": {},
   "outputs": [],
   "source": []
  }
 ]
}